{
 "cells": [
  {
   "cell_type": "markdown",
   "metadata": {},
   "source": [
    "# Assignment 8 - k-Nearest Neighbors (kNNs)\n",
    "(20 points)\n",
    "\n",
    "### Add your name(s) and EIDs below\n",
    "- Student Name: Siem Yonas\n",
    "- Student UT EID: sby237\n",
    "- Partner Name:\n",
    "- Partner UT EID:\n",
    "\n",
    "### Grading clarifications\n",
    "1. Before you submit:\n",
    "    - **Please do not change or remove any variable names** we give you for your answer to each question. You can use other variables if you wish, but the final answer must be stored in that variable.\n",
    "    - **Please don't use any other libraries** besides those provided in `requirements.txt`, and those [built in to Python](https://docs.python.org/3.8/library/index.html).\n",
    "2. We will also be double-checking the autograder, so you won't lose points if your formatting causes it to deduct points (but please try to follow the points under 1).\n",
    "3. After submitting, you may see \"All test cases passed!\" for Public Tests. Please note that this doesn't mean you have correctly answered every question, as there are no public tests. We will be using a series of hidden tests to verify your answers are correct.\n",
    "\n",
    "# k-Nearest Neighbors\n",
    "For this assignment, we are going explore one new classification technique: k nearest neighbors.\n",
    "\n",
    "We are using a different version of the Melbourne housing data set from earlier in the semester, split into training and testing sets for you. Our goal is to predict the housing type as one of three possible categories:\n",
    "\n",
    "  - 'h' house\n",
    "  - 'u' duplex\n",
    "  - 't' townhouse\n",
    "\n",
    "At the end of this homework, you will understand how to build and use a kNN model, and improve your data cleaning and data preparation skills. "
   ]
  },
  {
   "cell_type": "code",
   "execution_count": 1,
   "metadata": {},
   "outputs": [],
   "source": [
    "# These are the libraries you will use for this assignment.\n",
    "import pandas as pd\n",
    "import numpy as np\n",
    "import matplotlib.pyplot as plt\n",
    "import time\n",
    "import calendar\n",
    "%matplotlib inline"
   ]
  },
  {
   "cell_type": "code",
   "execution_count": 2,
   "metadata": {},
   "outputs": [],
   "source": [
    "# Start off by loading the training dataset.\n",
    "df_melb = pd.read_csv('melb_data_train.csv')"
   ]
  },
  {
   "cell_type": "markdown",
   "metadata": {},
   "source": [
    "## Q1 \n",
    "\n",
    "**Fix our \"Date\" column to be numeric**: If we inspect our dataframe `df_melb` using the `dtypes` property, we see that the column `Date` is an `object`.  However, we think this column might contain useful information, so your goal is to convert it to [Unix time](https://en.wikipedia.org/wiki/Unix_time).\n",
    "\n",
    "Unix time is the number of secconds since a fixed time known as the \"Unix epoch\", which is midnight on January 1st, 1970. For example, the Unix time for March 10th, 2023 is 1,678,474,369 seconds.\n",
    "\n",
    "- **Use only the libraries imported above** imported libraries to create a new column `UnixTime`. \n",
    "    - Be careful, the date strings in the file might have some non-uniform formatting that you have to fix first.  \n",
    "- Print out the min and max epoch time to check your work.  \n",
    "- Drop the original `Date` column. \n",
    "\n",
    "The Python [reference for time](https://docs.python.org/3/library/time.html) can help you with your conversion to Unix time.\n",
    "\n",
    "(**3 points**)"
   ]
  },
  {
   "cell_type": "code",
   "execution_count": 3,
   "metadata": {},
   "outputs": [
    {
     "data": {
      "text/plain": [
       "Rooms             int64\n",
       "Type             object\n",
       "Price             int64\n",
       "Date             object\n",
       "Distance        float64\n",
       "Postcode          int64\n",
       "Bathroom          int64\n",
       "Car             float64\n",
       "Landsize          int64\n",
       "BuildingArea    float64\n",
       "YearBuilt       float64\n",
       "dtype: object"
      ]
     },
     "execution_count": 3,
     "metadata": {},
     "output_type": "execute_result"
    }
   ],
   "source": [
    "# For reference, here are the data types of each column.\n",
    "df_melb.dtypes"
   ]
  },
  {
   "cell_type": "markdown",
   "metadata": {},
   "source": [
    "<!-- BEGIN QUESTION -->\n",
    "\n"
   ]
  },
  {
   "cell_type": "code",
   "execution_count": 4,
   "metadata": {
    "tags": []
   },
   "outputs": [],
   "source": [
    "def standardize_date(date_string):\n",
    "    \"\"\"Standardize a date string to a standard format.\n",
    "\n",
    "    Rules:\n",
    "    - You can assume the input string is of the form day/month/year.\n",
    "    - Fixed date strings should be of the form DD/MM/YYYY. If a day is\n",
    "      one digit, append zeros.\n",
    "    - If the input string's year is two digits (e.g. 02), assume\n",
    "      the year is in the 2000s (e.g. 2002).\n",
    "    \"\"\"\n",
    "    day, month, year = map(int, date_string.split(\"/\"))\n",
    "    \n",
    "    if year < 100:\n",
    "        year = 2000 + year\n",
    "    \n",
    "    fixed_date_string = f\"{day:02d}/{month:02d}/{year:02d}\"\n",
    "    return fixed_date_string\n",
    "\n",
    "def replace_date_with_unix(df):\n",
    "    \"\"\"Given a Melbourne dataset dataframe, replace the Date column\n",
    "    with a UnixTime column.\n",
    "\n",
    "    Hint: Call standardize_date within this function.\n",
    "    \"\"\"\n",
    "    # Standardize the date column.\n",
    "    Date = df.Date.apply(standardize_date)\n",
    "    \n",
    "    # Create the UnixTime column\n",
    "    date_to_unix = lambda x: calendar.timegm(time.strptime(x, \"%d/%m/%Y\"))\n",
    "    df = df.assign(UnixTime=Date.apply(date_to_unix))\n",
    "    \n",
    "    # Drop the date column.\n",
    "    df = df.drop(\"Date\", axis=1)\n",
    "    return df"
   ]
  },
  {
   "cell_type": "code",
   "execution_count": 5,
   "metadata": {
    "tags": []
   },
   "outputs": [
    {
     "name": "stdout",
     "output_type": "stream",
     "text": [
      "Min UnixTime: 1454544000\n",
      "Max UnixTime: 1506124800\n"
     ]
    }
   ],
   "source": [
    "df_melb_q1 = replace_date_with_unix(df_melb)\n",
    "\n",
    "# Print the cleaned UnixTime values.\n",
    "print('Min UnixTime:', df_melb_q1['UnixTime'].min())\n",
    "print('Max UnixTime:', df_melb_q1['UnixTime'].max())"
   ]
  },
  {
   "cell_type": "markdown",
   "metadata": {},
   "source": [
    "<!-- END QUESTION -->\n",
    "\n",
    "## Q2 \n",
    "\n",
    "**Use imputation to fill in missing values**: kNN doesn't work when some attributes are not present, so we must fill in all the missing values in `df_melb` with something. As a simple estimate, we will fill in missing values with the **mean** of that value/column.\n",
    "\n",
    "What we're trying to classify ('h'ome/'d'u'plex/'t'ownhouse), also knonw as the **target**, is store in the `Type` column. We define a variable `target_col` which lets you automatically infer which column is the target. During imputation, we should skip this target column.\n",
    "\n",
    "- Use `df_melb_q1`, i.e. the result from Q1.\n",
    "- Save the mean of each column in a dictionary `dict_imputation`. Keys are an attribute's column name, and values are that attribute's mean.\n",
    "- Use `dict_imputation` to imputate the missing values in `df_melb_q1`.\n",
    "- Store the imputated dataframe in `df_melb_q2`.\n",
    "\n",
    "(**3 points**)"
   ]
  },
  {
   "cell_type": "markdown",
   "metadata": {},
   "source": [
    "<!-- BEGIN QUESTION -->\n",
    "\n"
   ]
  },
  {
   "cell_type": "code",
   "execution_count": 6,
   "metadata": {
    "tags": []
   },
   "outputs": [],
   "source": [
    "def build_imputation_dict(df, target_col):\n",
    "    \"\"\"Collect the mean values of each column, excluding NaN values\n",
    "    and the target column.\n",
    "    \"\"\"\n",
    "\n",
    "    # Get the mean value of each column.\n",
    "    dict_imputation = df.drop(columns=target_col).mean().to_dict()\n",
    "    return dict_imputation\n",
    "\n",
    "def imputate(df, dict_imputation, target_col):\n",
    "    \"\"\"Imputate a dataframe, replacing missing values with those\n",
    "    given in dict_imputation. Do not imputate target_col.\"\"\"\n",
    "    df = df.fillna(dict_imputation)\n",
    "    \n",
    "    return df"
   ]
  },
  {
   "cell_type": "code",
   "execution_count": 7,
   "metadata": {
    "tags": []
   },
   "outputs": [],
   "source": [
    "# Define the target column as a string\n",
    "target_col = \"Type\"\n",
    "\n",
    "# Collect imputation values\n",
    "dict_imputation = build_imputation_dict(df_melb_q1, target_col)\n",
    "\n",
    "# Imputate the dataframe\n",
    "df_melb_q2 = imputate(df_melb_q1, dict_imputation, target_col)"
   ]
  },
  {
   "cell_type": "code",
   "execution_count": 8,
   "metadata": {
    "tags": []
   },
   "outputs": [
    {
     "data": {
      "text/plain": [
       "{'Rooms': 2.710769230769231,\n",
       " 'Price': 941972.2953846154,\n",
       " 'Distance': 10.206256410256408,\n",
       " 'Postcode': 3110.873846153846,\n",
       " 'Bathroom': 1.4543589743589744,\n",
       " 'Car': 1.4938398357289528,\n",
       " 'Landsize': 514.2184615384615,\n",
       " 'BuildingArea': 131.379476861167,\n",
       " 'YearBuilt': 1971.0204429301534,\n",
       " 'UnixTime': 1485036288.0}"
      ]
     },
     "execution_count": 8,
     "metadata": {},
     "output_type": "execute_result"
    }
   ],
   "source": [
    "# Check your results\n",
    "dict_imputation"
   ]
  },
  {
   "cell_type": "code",
   "execution_count": 9,
   "metadata": {
    "tags": []
   },
   "outputs": [
    {
     "data": {
      "text/html": [
       "<div>\n",
       "<style scoped>\n",
       "    .dataframe tbody tr th:only-of-type {\n",
       "        vertical-align: middle;\n",
       "    }\n",
       "\n",
       "    .dataframe tbody tr th {\n",
       "        vertical-align: top;\n",
       "    }\n",
       "\n",
       "    .dataframe thead th {\n",
       "        text-align: right;\n",
       "    }\n",
       "</style>\n",
       "<table border=\"1\" class=\"dataframe\">\n",
       "  <thead>\n",
       "    <tr style=\"text-align: right;\">\n",
       "      <th></th>\n",
       "      <th>Rooms</th>\n",
       "      <th>Type</th>\n",
       "      <th>Price</th>\n",
       "      <th>Distance</th>\n",
       "      <th>Postcode</th>\n",
       "      <th>Bathroom</th>\n",
       "      <th>Car</th>\n",
       "      <th>Landsize</th>\n",
       "      <th>BuildingArea</th>\n",
       "      <th>YearBuilt</th>\n",
       "      <th>UnixTime</th>\n",
       "    </tr>\n",
       "  </thead>\n",
       "  <tbody>\n",
       "    <tr>\n",
       "      <th>0</th>\n",
       "      <td>3</td>\n",
       "      <td>t</td>\n",
       "      <td>732000</td>\n",
       "      <td>5.6</td>\n",
       "      <td>3101</td>\n",
       "      <td>1</td>\n",
       "      <td>1.0</td>\n",
       "      <td>904</td>\n",
       "      <td>110.000000</td>\n",
       "      <td>1980.000000</td>\n",
       "      <td>1469491200</td>\n",
       "    </tr>\n",
       "    <tr>\n",
       "      <th>1</th>\n",
       "      <td>3</td>\n",
       "      <td>h</td>\n",
       "      <td>1001000</td>\n",
       "      <td>12.6</td>\n",
       "      <td>3020</td>\n",
       "      <td>1</td>\n",
       "      <td>5.0</td>\n",
       "      <td>879</td>\n",
       "      <td>131.379477</td>\n",
       "      <td>1971.020443</td>\n",
       "      <td>1488585600</td>\n",
       "    </tr>\n",
       "    <tr>\n",
       "      <th>2</th>\n",
       "      <td>2</td>\n",
       "      <td>u</td>\n",
       "      <td>605000</td>\n",
       "      <td>7.4</td>\n",
       "      <td>3185</td>\n",
       "      <td>1</td>\n",
       "      <td>1.0</td>\n",
       "      <td>722</td>\n",
       "      <td>131.379477</td>\n",
       "      <td>1970.000000</td>\n",
       "      <td>1462579200</td>\n",
       "    </tr>\n",
       "    <tr>\n",
       "      <th>3</th>\n",
       "      <td>3</td>\n",
       "      <td>h</td>\n",
       "      <td>757500</td>\n",
       "      <td>18.8</td>\n",
       "      <td>3170</td>\n",
       "      <td>2</td>\n",
       "      <td>1.0</td>\n",
       "      <td>145</td>\n",
       "      <td>131.379477</td>\n",
       "      <td>1971.020443</td>\n",
       "      <td>1497657600</td>\n",
       "    </tr>\n",
       "    <tr>\n",
       "      <th>4</th>\n",
       "      <td>4</td>\n",
       "      <td>h</td>\n",
       "      <td>721000</td>\n",
       "      <td>17.9</td>\n",
       "      <td>3082</td>\n",
       "      <td>2</td>\n",
       "      <td>2.0</td>\n",
       "      <td>603</td>\n",
       "      <td>131.379477</td>\n",
       "      <td>1971.020443</td>\n",
       "      <td>1505520000</td>\n",
       "    </tr>\n",
       "  </tbody>\n",
       "</table>\n",
       "</div>"
      ],
      "text/plain": [
       "   Rooms Type    Price  Distance  Postcode  Bathroom  Car  Landsize  \\\n",
       "0      3    t   732000       5.6      3101         1  1.0       904   \n",
       "1      3    h  1001000      12.6      3020         1  5.0       879   \n",
       "2      2    u   605000       7.4      3185         1  1.0       722   \n",
       "3      3    h   757500      18.8      3170         2  1.0       145   \n",
       "4      4    h   721000      17.9      3082         2  2.0       603   \n",
       "\n",
       "   BuildingArea    YearBuilt    UnixTime  \n",
       "0    110.000000  1980.000000  1469491200  \n",
       "1    131.379477  1971.020443  1488585600  \n",
       "2    131.379477  1970.000000  1462579200  \n",
       "3    131.379477  1971.020443  1497657600  \n",
       "4    131.379477  1971.020443  1505520000  "
      ]
     },
     "execution_count": 9,
     "metadata": {},
     "output_type": "execute_result"
    }
   ],
   "source": [
    "# Check your results\n",
    "df_melb_q2.head()"
   ]
  },
  {
   "cell_type": "markdown",
   "metadata": {},
   "source": [
    "<!-- END QUESTION -->\n",
    "\n",
    "## Q3\n",
    "\n",
    "**Normalize all attributes to be between [0,1]**: Normalize all the attribute columns in `df_melb_q2` so they have a value between zero and one (inclusive). \n",
    "\n",
    "To do this, we will build a dictionary `dict_normalize`, with column names for keys and (min, max) tuples for values, which are the min (resp. max) value found in the dataframe for that column. Just like in Q2, we do not normalize the target column.\n",
    "\n",
    "After creating `dict_normalize`, we will use it to normalize each column and generate a new dataframe, `df_melb_q3`. The resulting dataframe is now your model that you can use to classify new data points.\n",
    "\n",
    "- Use `df_melb_q2`, i.e. the result from Q2.\n",
    "- Save the minimum and maximum values of each column in a dictionary `dict_normalize`. Keys are an attribute's column name, and values are a (min, amx) tuple for that column,\n",
    "- Use `dict_normalize` to normalize the missing values in `df_melb_q2`.\n",
    "- Store the imputated dataframe in `df_melb_q3`.\n",
    "\n",
    "(**3 points**)"
   ]
  },
  {
   "cell_type": "markdown",
   "metadata": {},
   "source": [
    "<!-- BEGIN QUESTION -->\n",
    "\n"
   ]
  },
  {
   "cell_type": "code",
   "execution_count": 10,
   "metadata": {
    "tags": []
   },
   "outputs": [],
   "source": [
    "def build_normalization_dict(df, target_col):\n",
    "    \"\"\"Collect the (min, max) values of each column, except the\n",
    "    target column.\n",
    "    \"\"\"\n",
    "    \n",
    "    # Get the min and max values of each column.\n",
    "    stats = df.drop(columns=target_col).agg(['min', 'max']).to_dict()\n",
    "    \n",
    "    dict_normalize = {k: tuple(v.values()) for k, v in stats.items()}\n",
    "    \n",
    "    return dict_normalize\n",
    "\n",
    "def normalize(df, dict_normalize, target_col):\n",
    "    \"\"\"Normalize a dataframe, setting all values to the range [0, 1]\n",
    "    using (min, max) values in dict_normalize. Do not normalize target_col.\"\"\"\n",
    "    \n",
    "    normalized = {k: (df[k] - v[0])/(v[1] - v[0]) for k,v in dict_normalize.items()}\n",
    "    \n",
    "    df = df.assign(**normalized)\n",
    "    \n",
    "    return df"
   ]
  },
  {
   "cell_type": "code",
   "execution_count": 11,
   "metadata": {
    "tags": []
   },
   "outputs": [],
   "source": [
    "# Define the target column as a string\n",
    "target_col = \"Type\"\n",
    "\n",
    "# Collect normalization values\n",
    "dict_normalize = build_normalization_dict(df_melb_q2, target_col)\n",
    "\n",
    "# Normalize the dataframe\n",
    "df_melb_q3 = normalize(df_melb_q2, dict_normalize, target_col)"
   ]
  },
  {
   "cell_type": "code",
   "execution_count": 12,
   "metadata": {
    "tags": []
   },
   "outputs": [
    {
     "data": {
      "text/plain": [
       "{'Rooms': (1, 7),\n",
       " 'Price': (210000, 5020000),\n",
       " 'Distance': (0.7, 47.3),\n",
       " 'Postcode': (3000, 3810),\n",
       " 'Bathroom': (0, 5),\n",
       " 'Car': (0.0, 8.0),\n",
       " 'Landsize': (0, 41400),\n",
       " 'BuildingArea': (0.0, 3558.0),\n",
       " 'YearBuilt': (1850.0, 2016.0),\n",
       " 'UnixTime': (1454544000, 1506124800)}"
      ]
     },
     "execution_count": 12,
     "metadata": {},
     "output_type": "execute_result"
    }
   ],
   "source": [
    "# Check your results\n",
    "dict_normalize"
   ]
  },
  {
   "cell_type": "code",
   "execution_count": 13,
   "metadata": {
    "tags": []
   },
   "outputs": [
    {
     "data": {
      "text/html": [
       "<div>\n",
       "<style scoped>\n",
       "    .dataframe tbody tr th:only-of-type {\n",
       "        vertical-align: middle;\n",
       "    }\n",
       "\n",
       "    .dataframe tbody tr th {\n",
       "        vertical-align: top;\n",
       "    }\n",
       "\n",
       "    .dataframe thead th {\n",
       "        text-align: right;\n",
       "    }\n",
       "</style>\n",
       "<table border=\"1\" class=\"dataframe\">\n",
       "  <thead>\n",
       "    <tr style=\"text-align: right;\">\n",
       "      <th></th>\n",
       "      <th>Rooms</th>\n",
       "      <th>Type</th>\n",
       "      <th>Price</th>\n",
       "      <th>Distance</th>\n",
       "      <th>Postcode</th>\n",
       "      <th>Bathroom</th>\n",
       "      <th>Car</th>\n",
       "      <th>Landsize</th>\n",
       "      <th>BuildingArea</th>\n",
       "      <th>YearBuilt</th>\n",
       "      <th>UnixTime</th>\n",
       "    </tr>\n",
       "  </thead>\n",
       "  <tbody>\n",
       "    <tr>\n",
       "      <th>0</th>\n",
       "      <td>0.333333</td>\n",
       "      <td>t</td>\n",
       "      <td>0.108524</td>\n",
       "      <td>0.105150</td>\n",
       "      <td>0.124691</td>\n",
       "      <td>0.2</td>\n",
       "      <td>0.125</td>\n",
       "      <td>0.021836</td>\n",
       "      <td>0.030916</td>\n",
       "      <td>0.783133</td>\n",
       "      <td>0.289782</td>\n",
       "    </tr>\n",
       "    <tr>\n",
       "      <th>1</th>\n",
       "      <td>0.333333</td>\n",
       "      <td>h</td>\n",
       "      <td>0.164449</td>\n",
       "      <td>0.255365</td>\n",
       "      <td>0.024691</td>\n",
       "      <td>0.2</td>\n",
       "      <td>0.625</td>\n",
       "      <td>0.021232</td>\n",
       "      <td>0.036925</td>\n",
       "      <td>0.729039</td>\n",
       "      <td>0.659966</td>\n",
       "    </tr>\n",
       "    <tr>\n",
       "      <th>2</th>\n",
       "      <td>0.166667</td>\n",
       "      <td>u</td>\n",
       "      <td>0.082121</td>\n",
       "      <td>0.143777</td>\n",
       "      <td>0.228395</td>\n",
       "      <td>0.2</td>\n",
       "      <td>0.125</td>\n",
       "      <td>0.017440</td>\n",
       "      <td>0.036925</td>\n",
       "      <td>0.722892</td>\n",
       "      <td>0.155779</td>\n",
       "    </tr>\n",
       "    <tr>\n",
       "      <th>3</th>\n",
       "      <td>0.333333</td>\n",
       "      <td>h</td>\n",
       "      <td>0.113825</td>\n",
       "      <td>0.388412</td>\n",
       "      <td>0.209877</td>\n",
       "      <td>0.4</td>\n",
       "      <td>0.125</td>\n",
       "      <td>0.003502</td>\n",
       "      <td>0.036925</td>\n",
       "      <td>0.729039</td>\n",
       "      <td>0.835846</td>\n",
       "    </tr>\n",
       "    <tr>\n",
       "      <th>4</th>\n",
       "      <td>0.500000</td>\n",
       "      <td>h</td>\n",
       "      <td>0.106237</td>\n",
       "      <td>0.369099</td>\n",
       "      <td>0.101235</td>\n",
       "      <td>0.4</td>\n",
       "      <td>0.250</td>\n",
       "      <td>0.014565</td>\n",
       "      <td>0.036925</td>\n",
       "      <td>0.729039</td>\n",
       "      <td>0.988275</td>\n",
       "    </tr>\n",
       "  </tbody>\n",
       "</table>\n",
       "</div>"
      ],
      "text/plain": [
       "      Rooms Type     Price  Distance  Postcode  Bathroom    Car  Landsize  \\\n",
       "0  0.333333    t  0.108524  0.105150  0.124691       0.2  0.125  0.021836   \n",
       "1  0.333333    h  0.164449  0.255365  0.024691       0.2  0.625  0.021232   \n",
       "2  0.166667    u  0.082121  0.143777  0.228395       0.2  0.125  0.017440   \n",
       "3  0.333333    h  0.113825  0.388412  0.209877       0.4  0.125  0.003502   \n",
       "4  0.500000    h  0.106237  0.369099  0.101235       0.4  0.250  0.014565   \n",
       "\n",
       "   BuildingArea  YearBuilt  UnixTime  \n",
       "0      0.030916   0.783133  0.289782  \n",
       "1      0.036925   0.729039  0.659966  \n",
       "2      0.036925   0.722892  0.155779  \n",
       "3      0.036925   0.729039  0.835846  \n",
       "4      0.036925   0.729039  0.988275  "
      ]
     },
     "execution_count": 13,
     "metadata": {},
     "output_type": "execute_result"
    }
   ],
   "source": [
    "# Check your results\n",
    "df_melb_q3.head()"
   ]
  },
  {
   "cell_type": "markdown",
   "metadata": {},
   "source": [
    "<!-- END QUESTION -->\n",
    "\n",
    "## Q4 \n",
    "\n",
    "**Prepare the test data**: Load in `melb_data_test.csv` and repeat the steps in Q1, Q2, and Q3 (unix time, imputation, and normalization).\n",
    "\n",
    "(**1 point**)"
   ]
  },
  {
   "cell_type": "markdown",
   "metadata": {},
   "source": [
    "<!-- BEGIN QUESTION -->\n",
    "\n"
   ]
  },
  {
   "cell_type": "code",
   "execution_count": 14,
   "metadata": {
    "tags": []
   },
   "outputs": [],
   "source": [
    "# Load the test dataframe\n",
    "df_melb_test = pd.read_csv(\"melb_data_test.csv\")\n",
    "\n",
    "# Clean the dates, add unix time\n",
    "df_melb_test = replace_date_with_unix(df_melb_test)\n",
    "\n",
    "# Imputate the dataframe\n",
    "target_col = \"Type\"\n",
    "dict_imputation_test = build_imputation_dict(df_melb_test, target_col)\n",
    "df_melb_test = imputate(df_melb_test, dict_imputation_test, target_col)\n",
    "\n",
    "# Normalize the dataframe\n",
    "dict_normalize_test = build_normalization_dict(df_melb_test, target_col)\n",
    "df_melb_test = normalize(df_melb_test, dict_normalize_test, target_col)"
   ]
  },
  {
   "cell_type": "code",
   "execution_count": 15,
   "metadata": {
    "tags": []
   },
   "outputs": [
    {
     "data": {
      "text/html": [
       "<div>\n",
       "<style scoped>\n",
       "    .dataframe tbody tr th:only-of-type {\n",
       "        vertical-align: middle;\n",
       "    }\n",
       "\n",
       "    .dataframe tbody tr th {\n",
       "        vertical-align: top;\n",
       "    }\n",
       "\n",
       "    .dataframe thead th {\n",
       "        text-align: right;\n",
       "    }\n",
       "</style>\n",
       "<table border=\"1\" class=\"dataframe\">\n",
       "  <thead>\n",
       "    <tr style=\"text-align: right;\">\n",
       "      <th></th>\n",
       "      <th>Rooms</th>\n",
       "      <th>Type</th>\n",
       "      <th>Price</th>\n",
       "      <th>Distance</th>\n",
       "      <th>Postcode</th>\n",
       "      <th>Bathroom</th>\n",
       "      <th>Car</th>\n",
       "      <th>Landsize</th>\n",
       "      <th>BuildingArea</th>\n",
       "      <th>YearBuilt</th>\n",
       "      <th>UnixTime</th>\n",
       "    </tr>\n",
       "  </thead>\n",
       "  <tbody>\n",
       "    <tr>\n",
       "      <th>0</th>\n",
       "      <td>0.166667</td>\n",
       "      <td>t</td>\n",
       "      <td>0.183188</td>\n",
       "      <td>0.263736</td>\n",
       "      <td>0.083732</td>\n",
       "      <td>0.5</td>\n",
       "      <td>0.166667</td>\n",
       "      <td>0.041418</td>\n",
       "      <td>0.246521</td>\n",
       "      <td>0.967742</td>\n",
       "      <td>0.835846</td>\n",
       "    </tr>\n",
       "    <tr>\n",
       "      <th>1</th>\n",
       "      <td>0.333333</td>\n",
       "      <td>h</td>\n",
       "      <td>0.407216</td>\n",
       "      <td>0.197802</td>\n",
       "      <td>0.145933</td>\n",
       "      <td>0.0</td>\n",
       "      <td>0.333333</td>\n",
       "      <td>0.182397</td>\n",
       "      <td>0.290426</td>\n",
       "      <td>0.624069</td>\n",
       "      <td>0.425461</td>\n",
       "    </tr>\n",
       "    <tr>\n",
       "      <th>2</th>\n",
       "      <td>0.666667</td>\n",
       "      <td>h</td>\n",
       "      <td>0.984140</td>\n",
       "      <td>0.129121</td>\n",
       "      <td>0.315789</td>\n",
       "      <td>0.5</td>\n",
       "      <td>0.333333</td>\n",
       "      <td>0.122859</td>\n",
       "      <td>0.290426</td>\n",
       "      <td>0.624069</td>\n",
       "      <td>0.345059</td>\n",
       "    </tr>\n",
       "    <tr>\n",
       "      <th>3</th>\n",
       "      <td>0.333333</td>\n",
       "      <td>h</td>\n",
       "      <td>0.206979</td>\n",
       "      <td>0.244505</td>\n",
       "      <td>0.055024</td>\n",
       "      <td>0.0</td>\n",
       "      <td>0.166667</td>\n",
       "      <td>0.118080</td>\n",
       "      <td>0.228628</td>\n",
       "      <td>0.645161</td>\n",
       "      <td>0.355109</td>\n",
       "    </tr>\n",
       "    <tr>\n",
       "      <th>4</th>\n",
       "      <td>0.333333</td>\n",
       "      <td>h</td>\n",
       "      <td>0.191118</td>\n",
       "      <td>1.000000</td>\n",
       "      <td>0.449761</td>\n",
       "      <td>0.0</td>\n",
       "      <td>0.333333</td>\n",
       "      <td>0.166268</td>\n",
       "      <td>0.228628</td>\n",
       "      <td>0.564516</td>\n",
       "      <td>0.871022</td>\n",
       "    </tr>\n",
       "  </tbody>\n",
       "</table>\n",
       "</div>"
      ],
      "text/plain": [
       "      Rooms Type     Price  Distance  Postcode  Bathroom       Car  Landsize  \\\n",
       "0  0.166667    t  0.183188  0.263736  0.083732       0.5  0.166667  0.041418   \n",
       "1  0.333333    h  0.407216  0.197802  0.145933       0.0  0.333333  0.182397   \n",
       "2  0.666667    h  0.984140  0.129121  0.315789       0.5  0.333333  0.122859   \n",
       "3  0.333333    h  0.206979  0.244505  0.055024       0.0  0.166667  0.118080   \n",
       "4  0.333333    h  0.191118  1.000000  0.449761       0.0  0.333333  0.166268   \n",
       "\n",
       "   BuildingArea  YearBuilt  UnixTime  \n",
       "0      0.246521   0.967742  0.835846  \n",
       "1      0.290426   0.624069  0.425461  \n",
       "2      0.290426   0.624069  0.345059  \n",
       "3      0.228628   0.645161  0.355109  \n",
       "4      0.228628   0.564516  0.871022  "
      ]
     },
     "execution_count": 15,
     "metadata": {},
     "output_type": "execute_result"
    }
   ],
   "source": [
    "# Check your results\n",
    "df_melb_test.head()"
   ]
  },
  {
   "cell_type": "markdown",
   "metadata": {},
   "source": [
    "<!-- END QUESTION -->\n",
    "\n",
    "## Q5\n",
    "\n",
    "**Write the kNN classifier function**: Your function, `predict_knn` will take in the following four parameters:\n",
    "- Training dataframe `df_train`\n",
    "- Hyperparameter `k`\n",
    "- Testing sample `test_sample` (one row of the DataFrame, we can generate it using `iloc` or `iterrows`).\n",
    "- Target column string `target_col`, which defines the variable we want to predict.\n",
    "\n",
    "It will predict which class `test_sample` belongs to, based on the `k` nearest neighbors to the sample.\n",
    "\n",
    "- We assume `df_train` is normalized/imputated, contains all attributes, and also contains the target column.\n",
    "- Likewise, we assume `test_sample` is normalized/imputated and contains all attributes. (But, it does not have to have the target column).\n",
    "\n",
    "*Hint*: To find the distance between the test sample and any element of the training dataset, you may use the [L2 norm function from numpy](https://numpy.org/doc/stable/reference/generated/numpy.linalg.norm.html).\n",
    "\n",
    "(**5 points**)"
   ]
  },
  {
   "cell_type": "markdown",
   "metadata": {},
   "source": [
    "<!-- BEGIN QUESTION -->\n",
    "\n"
   ]
  },
  {
   "cell_type": "code",
   "execution_count": 16,
   "metadata": {
    "tags": []
   },
   "outputs": [],
   "source": [
    "def predict_knn(df_train: pd.DataFrame, k: int, \n",
    "                test_sample: pd.Series, target_col: str):\n",
    "    \"\"\"Use the k-nearest neighbors algorithm to predict the class of a test-sample,\n",
    "    given a training set.\n",
    "    \n",
    "    Parameters:\n",
    "        df_train:    DataFrame of training samples\n",
    "        k:           Number of neighbors to consider\n",
    "        test_sample: Single evaluation sample\n",
    "        target_col:  Name of the target variable (column)\n",
    "\n",
    "    Returns:\n",
    "        prediction: Predicted class of the test sample using kNN.\n",
    "    \"\"\"\n",
    "    # Extract parameters from sample\n",
    "    X_test = test_sample.drop(target_col)\n",
    "    \n",
    "    # Calculate distance\n",
    "    dist = df_train.apply(lambda x : np.linalg.norm( x.drop(index=target_col) - X_test), axis=1)\n",
    "    df_train = df_train.assign(Distance=dist)\n",
    "    \n",
    "    # Find k nearest neighbors\n",
    "    df_train = df_train.sort_values(by='Distance').reset_index(drop=True)\n",
    "    df_k = df_train[0:k]\n",
    "    \n",
    "    prediction = df_k[target_col].value_counts().index[0] \n",
    "    return prediction"
   ]
  },
  {
   "cell_type": "markdown",
   "metadata": {},
   "source": [
    "<!-- END QUESTION -->\n",
    "\n",
    "## Q6 \n",
    "\n",
    "**Compute the accuracy using different k values**: For each value of $k$ in the set $\\{1,3,13,25,50,100\\}$, compute the kNN prediction for each oberservation in the test set, and the overall accuracy of the classifier.  Plot the accuracy as a function of $k$.\n",
    "\n",
    "- Use your imputed, normalize training dataframe (`df_melb_q3`).\n",
    "- Use your imputed, normalized testing dataframe (`df_melb_test`).\n",
    "- Have an outer loop over the k-values, and an inner loop computing the prediction for each testing sample under that k-value.\n",
    "\n",
    "Which value of $k$ would you choose? Why?\n",
    "\n",
    "(This can take a while to run; probably at least 5-10 minutes.)\n",
    "\n",
    "(**5 points - 3 for implementation, 1 for plot, 1 for description**).\n",
    "\n",
    "(**This question will be manually graded.**)\n",
    "\n",
    "$k=13$ should be chosen, as it has the highest accuracy value under majority-voting kNN classification fitting (83%).  \n"
   ]
  },
  {
   "cell_type": "markdown",
   "metadata": {},
   "source": [
    "<!-- BEGIN QUESTION -->\n",
    "\n"
   ]
  },
  {
   "cell_type": "code",
   "execution_count": 17,
   "metadata": {
    "tags": [
     "otter_ignore"
    ]
   },
   "outputs": [
    {
     "name": "stdout",
     "output_type": "stream",
     "text": [
      "k =   1, Acc = 0.79508197\n",
      "k =   3, Acc = 0.80327869\n",
      "k =  13, Acc = 0.82786885\n",
      "k =  25, Acc = 0.79508197\n",
      "k =  50, Acc = 0.77868852\n",
      "k = 100, Acc = 0.77868852\n"
     ]
    }
   ],
   "source": [
    "# Sweep over the k-values. Place your accuracies for each k-value in acc_k.\n",
    "poss_k = [1, 3, 13, 25, 50, 100]\n",
    "acc_k = []\n",
    "\n",
    "target_col = \"Type\"\n",
    "\n",
    "# Your code goes below.\n",
    "for k in poss_k:\n",
    "    # Inner \"loop\"\n",
    "    predictions = df_melb_test.apply(lambda x: predict_knn(df_melb_q3, k, x, target_col), axis=1)\n",
    "    \n",
    "    correct = np.sum(predictions == df_melb_test[target_col])\n",
    "    acc_k.append(correct/len(predictions))\n",
    "    \n",
    "    print(f\"k = {k:3}, Acc = {acc_k[-1]:0.8f}\")\n",
    "    "
   ]
  },
  {
   "cell_type": "code",
   "execution_count": 18,
   "metadata": {
    "tags": [
     "otter_ignore"
    ]
   },
   "outputs": [
    {
     "data": {
      "image/png": "[encoded data removed]",
      "text/plain": [
       "<Figure size 432x288 with 1 Axes>"
      ]
     },
     "metadata": {
      "needs_background": "light"
     },
     "output_type": "display_data"
    }
   ],
   "source": [
    "# Plot your accuracies for each k-value.\n",
    "plt.plot(poss_k, acc_k, 'b-*')\n",
    "plt.xlabel('k')\n",
    "plt.ylabel('Accuracy')\n",
    "plt.title('Accuracy on Test Set for Varied k')\n",
    "plt.grid('on')\n",
    "plt.show()"
   ]
  },
  {
   "cell_type": "markdown",
   "metadata": {},
   "source": [
    "<!-- END QUESTION -->\n",
    "\n"
   ]
  }
 ],
 "metadata": {
  "kernelspec": {
   "display_name": "Python 3 (ipykernel)",
   "language": "python",
   "name": "python3"
  },
  "language_info": {
   "codemirror_mode": {
    "name": "ipython",
    "version": 3
   },
   "file_extension": ".py",
   "mimetype": "text/x-python",
   "name": "python",
   "nbconvert_exporter": "python",
   "pygments_lexer": "ipython3",
   "version": "3.9.7"
  },
  "otter": {
   "OK_FORMAT": true,
   "assignment_name": "329e_HW08",
   "tests": {
    "q1": {
     "name": "q1",
     "points": 3,
     "suites": [
      {
       "cases": [],
       "scored": true,
       "setup": "",
       "teardown": "",
       "type": "doctest"
      }
     ]
    },
    "q2": {
     "name": "q2",
     "points": 3,
     "suites": [
      {
       "cases": [],
       "scored": true,
       "setup": "",
       "teardown": "",
       "type": "doctest"
      }
     ]
    },
    "q3": {
     "name": "q3",
     "points": 3,
     "suites": [
      {
       "cases": [],
       "scored": true,
       "setup": "",
       "teardown": "",
       "type": "doctest"
      }
     ]
    },
    "q4": {
     "name": "q4",
     "points": 1,
     "suites": [
      {
       "cases": [],
       "scored": true,
       "setup": "",
       "teardown": "",
       "type": "doctest"
      }
     ]
    },
    "q5": {
     "name": "q5",
     "points": 5,
     "suites": [
      {
       "cases": [],
       "scored": true,
       "setup": "",
       "teardown": "",
       "type": "doctest"
      }
     ]
    }
   }
  },
  "vscode": {
   "interpreter": {
    "hash": "05642a42904bc69a6f3fb292ea6dbf0463ee768c41640775e87375f7653a91c5"
   }
  }
 },
 "nbformat": 4,
 "nbformat_minor": 4
}
