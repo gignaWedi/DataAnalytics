{
 "cells": [
  {
   "cell_type": "markdown",
   "id": "3aa6d9d1-c0c0-4b5b-9831-4adb52502999",
   "metadata": {
    "slideshow": {
     "slide_type": "slide"
    },
    "tags": []
   },
   "source": [
    "# Q4"
   ]
  },
  {
   "cell_type": "code",
   "execution_count": 1,
   "id": "f3e46985-fd0c-4620-9f13-44347127af87",
   "metadata": {
    "slideshow": {
     "slide_type": "subslide"
    },
    "tags": []
   },
   "outputs": [
    {
     "data": {
      "text/html": [
       "<div>\n",
       "<style scoped>\n",
       "    .dataframe tbody tr th:only-of-type {\n",
       "        vertical-align: middle;\n",
       "    }\n",
       "\n",
       "    .dataframe tbody tr th {\n",
       "        vertical-align: top;\n",
       "    }\n",
       "\n",
       "    .dataframe thead th {\n",
       "        text-align: right;\n",
       "    }\n",
       "</style>\n",
       "<table border=\"1\" class=\"dataframe\">\n",
       "  <thead>\n",
       "    <tr style=\"text-align: right;\">\n",
       "      <th></th>\n",
       "      <th>Year</th>\n",
       "      <th>Month</th>\n",
       "      <th>DayofMonth</th>\n",
       "      <th>DayOfWeek</th>\n",
       "      <th>DepTime</th>\n",
       "      <th>CRSDepTime</th>\n",
       "      <th>ArrTime</th>\n",
       "      <th>CRSArrTime</th>\n",
       "      <th>UniqueCarrier</th>\n",
       "      <th>FlightNum</th>\n",
       "      <th>...</th>\n",
       "      <th>TaxiIn</th>\n",
       "      <th>TaxiOut</th>\n",
       "      <th>Cancelled</th>\n",
       "      <th>CancellationCode</th>\n",
       "      <th>Diverted</th>\n",
       "      <th>CarrierDelay</th>\n",
       "      <th>WeatherDelay</th>\n",
       "      <th>NASDelay</th>\n",
       "      <th>SecurityDelay</th>\n",
       "      <th>LateAircraftDelay</th>\n",
       "    </tr>\n",
       "  </thead>\n",
       "  <tbody>\n",
       "    <tr>\n",
       "      <th>0</th>\n",
       "      <td>2008</td>\n",
       "      <td>1</td>\n",
       "      <td>4</td>\n",
       "      <td>5</td>\n",
       "      <td>1910.0</td>\n",
       "      <td>1910</td>\n",
       "      <td>2025.0</td>\n",
       "      <td>2025</td>\n",
       "      <td>WN</td>\n",
       "      <td>823</td>\n",
       "      <td>...</td>\n",
       "      <td>6.0</td>\n",
       "      <td>11.0</td>\n",
       "      <td>0</td>\n",
       "      <td>NaN</td>\n",
       "      <td>0</td>\n",
       "      <td>NaN</td>\n",
       "      <td>NaN</td>\n",
       "      <td>NaN</td>\n",
       "      <td>NaN</td>\n",
       "      <td>NaN</td>\n",
       "    </tr>\n",
       "    <tr>\n",
       "      <th>1</th>\n",
       "      <td>2008</td>\n",
       "      <td>1</td>\n",
       "      <td>4</td>\n",
       "      <td>5</td>\n",
       "      <td>1345.0</td>\n",
       "      <td>1345</td>\n",
       "      <td>1453.0</td>\n",
       "      <td>1500</td>\n",
       "      <td>WN</td>\n",
       "      <td>901</td>\n",
       "      <td>...</td>\n",
       "      <td>3.0</td>\n",
       "      <td>14.0</td>\n",
       "      <td>0</td>\n",
       "      <td>NaN</td>\n",
       "      <td>0</td>\n",
       "      <td>NaN</td>\n",
       "      <td>NaN</td>\n",
       "      <td>NaN</td>\n",
       "      <td>NaN</td>\n",
       "      <td>NaN</td>\n",
       "    </tr>\n",
       "    <tr>\n",
       "      <th>2</th>\n",
       "      <td>2008</td>\n",
       "      <td>1</td>\n",
       "      <td>4</td>\n",
       "      <td>5</td>\n",
       "      <td>736.0</td>\n",
       "      <td>735</td>\n",
       "      <td>839.0</td>\n",
       "      <td>850</td>\n",
       "      <td>WN</td>\n",
       "      <td>957</td>\n",
       "      <td>...</td>\n",
       "      <td>3.0</td>\n",
       "      <td>9.0</td>\n",
       "      <td>0</td>\n",
       "      <td>NaN</td>\n",
       "      <td>0</td>\n",
       "      <td>NaN</td>\n",
       "      <td>NaN</td>\n",
       "      <td>NaN</td>\n",
       "      <td>NaN</td>\n",
       "      <td>NaN</td>\n",
       "    </tr>\n",
       "    <tr>\n",
       "      <th>3</th>\n",
       "      <td>2008</td>\n",
       "      <td>1</td>\n",
       "      <td>4</td>\n",
       "      <td>5</td>\n",
       "      <td>1603.0</td>\n",
       "      <td>1550</td>\n",
       "      <td>1647.0</td>\n",
       "      <td>1635</td>\n",
       "      <td>WN</td>\n",
       "      <td>231</td>\n",
       "      <td>...</td>\n",
       "      <td>5.0</td>\n",
       "      <td>10.0</td>\n",
       "      <td>0</td>\n",
       "      <td>NaN</td>\n",
       "      <td>0</td>\n",
       "      <td>NaN</td>\n",
       "      <td>NaN</td>\n",
       "      <td>NaN</td>\n",
       "      <td>NaN</td>\n",
       "      <td>NaN</td>\n",
       "    </tr>\n",
       "    <tr>\n",
       "      <th>4</th>\n",
       "      <td>2008</td>\n",
       "      <td>1</td>\n",
       "      <td>4</td>\n",
       "      <td>5</td>\n",
       "      <td>2105.0</td>\n",
       "      <td>2105</td>\n",
       "      <td>2151.0</td>\n",
       "      <td>2150</td>\n",
       "      <td>WN</td>\n",
       "      <td>570</td>\n",
       "      <td>...</td>\n",
       "      <td>7.0</td>\n",
       "      <td>11.0</td>\n",
       "      <td>0</td>\n",
       "      <td>NaN</td>\n",
       "      <td>0</td>\n",
       "      <td>NaN</td>\n",
       "      <td>NaN</td>\n",
       "      <td>NaN</td>\n",
       "      <td>NaN</td>\n",
       "      <td>NaN</td>\n",
       "    </tr>\n",
       "    <tr>\n",
       "      <th>...</th>\n",
       "      <td>...</td>\n",
       "      <td>...</td>\n",
       "      <td>...</td>\n",
       "      <td>...</td>\n",
       "      <td>...</td>\n",
       "      <td>...</td>\n",
       "      <td>...</td>\n",
       "      <td>...</td>\n",
       "      <td>...</td>\n",
       "      <td>...</td>\n",
       "      <td>...</td>\n",
       "      <td>...</td>\n",
       "      <td>...</td>\n",
       "      <td>...</td>\n",
       "      <td>...</td>\n",
       "      <td>...</td>\n",
       "      <td>...</td>\n",
       "      <td>...</td>\n",
       "      <td>...</td>\n",
       "      <td>...</td>\n",
       "      <td>...</td>\n",
       "    </tr>\n",
       "    <tr>\n",
       "      <th>241100</th>\n",
       "      <td>2008</td>\n",
       "      <td>12</td>\n",
       "      <td>12</td>\n",
       "      <td>5</td>\n",
       "      <td>1122.0</td>\n",
       "      <td>1040</td>\n",
       "      <td>1418.0</td>\n",
       "      <td>1342</td>\n",
       "      <td>DL</td>\n",
       "      <td>50</td>\n",
       "      <td>...</td>\n",
       "      <td>9.0</td>\n",
       "      <td>15.0</td>\n",
       "      <td>0</td>\n",
       "      <td>NaN</td>\n",
       "      <td>0</td>\n",
       "      <td>3.0</td>\n",
       "      <td>0.0</td>\n",
       "      <td>0.0</td>\n",
       "      <td>0.0</td>\n",
       "      <td>33.0</td>\n",
       "    </tr>\n",
       "    <tr>\n",
       "      <th>241101</th>\n",
       "      <td>2008</td>\n",
       "      <td>12</td>\n",
       "      <td>12</td>\n",
       "      <td>5</td>\n",
       "      <td>546.0</td>\n",
       "      <td>545</td>\n",
       "      <td>1011.0</td>\n",
       "      <td>849</td>\n",
       "      <td>DL</td>\n",
       "      <td>668</td>\n",
       "      <td>...</td>\n",
       "      <td>16.0</td>\n",
       "      <td>86.0</td>\n",
       "      <td>0</td>\n",
       "      <td>NaN</td>\n",
       "      <td>0</td>\n",
       "      <td>0.0</td>\n",
       "      <td>0.0</td>\n",
       "      <td>82.0</td>\n",
       "      <td>0.0</td>\n",
       "      <td>0.0</td>\n",
       "    </tr>\n",
       "    <tr>\n",
       "      <th>241102</th>\n",
       "      <td>2008</td>\n",
       "      <td>12</td>\n",
       "      <td>12</td>\n",
       "      <td>5</td>\n",
       "      <td>1114.0</td>\n",
       "      <td>1050</td>\n",
       "      <td>1406.0</td>\n",
       "      <td>1349</td>\n",
       "      <td>DL</td>\n",
       "      <td>1292</td>\n",
       "      <td>...</td>\n",
       "      <td>11.0</td>\n",
       "      <td>8.0</td>\n",
       "      <td>0</td>\n",
       "      <td>NaN</td>\n",
       "      <td>0</td>\n",
       "      <td>3.0</td>\n",
       "      <td>0.0</td>\n",
       "      <td>0.0</td>\n",
       "      <td>0.0</td>\n",
       "      <td>14.0</td>\n",
       "    </tr>\n",
       "    <tr>\n",
       "      <th>241103</th>\n",
       "      <td>2008</td>\n",
       "      <td>12</td>\n",
       "      <td>13</td>\n",
       "      <td>6</td>\n",
       "      <td>1612.0</td>\n",
       "      <td>1614</td>\n",
       "      <td>1910.0</td>\n",
       "      <td>1919</td>\n",
       "      <td>DL</td>\n",
       "      <td>8</td>\n",
       "      <td>...</td>\n",
       "      <td>16.0</td>\n",
       "      <td>18.0</td>\n",
       "      <td>0</td>\n",
       "      <td>NaN</td>\n",
       "      <td>0</td>\n",
       "      <td>NaN</td>\n",
       "      <td>NaN</td>\n",
       "      <td>NaN</td>\n",
       "      <td>NaN</td>\n",
       "      <td>NaN</td>\n",
       "    </tr>\n",
       "    <tr>\n",
       "      <th>241104</th>\n",
       "      <td>2008</td>\n",
       "      <td>12</td>\n",
       "      <td>13</td>\n",
       "      <td>6</td>\n",
       "      <td>1222.0</td>\n",
       "      <td>1050</td>\n",
       "      <td>1519.0</td>\n",
       "      <td>1346</td>\n",
       "      <td>DL</td>\n",
       "      <td>50</td>\n",
       "      <td>...</td>\n",
       "      <td>11.0</td>\n",
       "      <td>19.0</td>\n",
       "      <td>0</td>\n",
       "      <td>NaN</td>\n",
       "      <td>0</td>\n",
       "      <td>0.0</td>\n",
       "      <td>0.0</td>\n",
       "      <td>1.0</td>\n",
       "      <td>0.0</td>\n",
       "      <td>92.0</td>\n",
       "    </tr>\n",
       "  </tbody>\n",
       "</table>\n",
       "<p>241105 rows × 29 columns</p>\n",
       "</div>"
      ],
      "text/plain": [
       "        Year  Month  DayofMonth  DayOfWeek  DepTime  CRSDepTime  ArrTime  \\\n",
       "0       2008      1           4          5   1910.0        1910   2025.0   \n",
       "1       2008      1           4          5   1345.0        1345   1453.0   \n",
       "2       2008      1           4          5    736.0         735    839.0   \n",
       "3       2008      1           4          5   1603.0        1550   1647.0   \n",
       "4       2008      1           4          5   2105.0        2105   2151.0   \n",
       "...      ...    ...         ...        ...      ...         ...      ...   \n",
       "241100  2008     12          12          5   1122.0        1040   1418.0   \n",
       "241101  2008     12          12          5    546.0         545   1011.0   \n",
       "241102  2008     12          12          5   1114.0        1050   1406.0   \n",
       "241103  2008     12          13          6   1612.0        1614   1910.0   \n",
       "241104  2008     12          13          6   1222.0        1050   1519.0   \n",
       "\n",
       "        CRSArrTime UniqueCarrier  FlightNum  ... TaxiIn  TaxiOut  Cancelled  \\\n",
       "0             2025            WN        823  ...    6.0     11.0          0   \n",
       "1             1500            WN        901  ...    3.0     14.0          0   \n",
       "2              850            WN        957  ...    3.0      9.0          0   \n",
       "3             1635            WN        231  ...    5.0     10.0          0   \n",
       "4             2150            WN        570  ...    7.0     11.0          0   \n",
       "...            ...           ...        ...  ...    ...      ...        ...   \n",
       "241100        1342            DL         50  ...    9.0     15.0          0   \n",
       "241101         849            DL        668  ...   16.0     86.0          0   \n",
       "241102        1349            DL       1292  ...   11.0      8.0          0   \n",
       "241103        1919            DL          8  ...   16.0     18.0          0   \n",
       "241104        1346            DL         50  ...   11.0     19.0          0   \n",
       "\n",
       "        CancellationCode  Diverted  CarrierDelay WeatherDelay NASDelay  \\\n",
       "0                    NaN         0           NaN          NaN      NaN   \n",
       "1                    NaN         0           NaN          NaN      NaN   \n",
       "2                    NaN         0           NaN          NaN      NaN   \n",
       "3                    NaN         0           NaN          NaN      NaN   \n",
       "4                    NaN         0           NaN          NaN      NaN   \n",
       "...                  ...       ...           ...          ...      ...   \n",
       "241100               NaN         0           3.0          0.0      0.0   \n",
       "241101               NaN         0           0.0          0.0     82.0   \n",
       "241102               NaN         0           3.0          0.0      0.0   \n",
       "241103               NaN         0           NaN          NaN      NaN   \n",
       "241104               NaN         0           0.0          0.0      1.0   \n",
       "\n",
       "        SecurityDelay  LateAircraftDelay  \n",
       "0                 NaN                NaN  \n",
       "1                 NaN                NaN  \n",
       "2                 NaN                NaN  \n",
       "3                 NaN                NaN  \n",
       "4                 NaN                NaN  \n",
       "...               ...                ...  \n",
       "241100            0.0               33.0  \n",
       "241101            0.0                0.0  \n",
       "241102            0.0               14.0  \n",
       "241103            NaN                NaN  \n",
       "241104            0.0               92.0  \n",
       "\n",
       "[241105 rows x 29 columns]"
      ]
     },
     "execution_count": 1,
     "metadata": {},
     "output_type": "execute_result"
    }
   ],
   "source": [
    "import numpy as np\n",
    "import pandas as pd\n",
    "# Flights from Houston,TX data set\n",
    "flights = pd.read_csv(\"https://github.com/kiat/Elements-of-Data-Analytics/blob/main/datasets/airline/HoustonAirline.csv?raw=true\") \n",
    "flights"
   ]
  },
  {
   "cell_type": "code",
   "execution_count": 2,
   "id": "4f165204-9e9c-4d51-a155-d7f1d0ebac0f",
   "metadata": {},
   "outputs": [
    {
     "data": {
      "text/plain": [
       "'N14937'"
      ]
     },
     "execution_count": 2,
     "metadata": {},
     "output_type": "execute_result"
    }
   ],
   "source": [
    "flights.groupby(\"TailNum\").size().idxmax()"
   ]
  },
  {
   "cell_type": "markdown",
   "id": "860b1552-eb3b-4dcc-bdce-a9ce1732c8fa",
   "metadata": {},
   "source": [
    "Regardless of cancellation, it is still N14937"
   ]
  },
  {
   "cell_type": "code",
   "execution_count": 3,
   "id": "b03a3f73-5cc5-461c-843f-cfba73c83d80",
   "metadata": {
    "slideshow": {
     "slide_type": "notes"
    },
    "tags": []
   },
   "outputs": [
    {
     "data": {
      "text/plain": [
       "'N14937'"
      ]
     },
     "execution_count": 3,
     "metadata": {},
     "output_type": "execute_result"
    }
   ],
   "source": [
    "flights[flights.Cancelled == 0].groupby(\"TailNum\").size().idxmax()"
   ]
  },
  {
   "cell_type": "code",
   "execution_count": 4,
   "id": "1d4a70ee-14be-453c-b308-0a9522821050",
   "metadata": {
    "slideshow": {
     "slide_type": "fragment"
    },
    "tags": []
   },
   "outputs": [
    {
     "data": {
      "text/plain": [
       "'N14937'"
      ]
     },
     "execution_count": 4,
     "metadata": {},
     "output_type": "execute_result"
    }
   ],
   "source": [
    "flights.TailNum.value_counts().idxmax()"
   ]
  },
  {
   "cell_type": "markdown",
   "id": "03babdf6-7e52-4546-bddf-b54b21a4c68f",
   "metadata": {
    "slideshow": {
     "slide_type": "slide"
    },
    "tags": []
   },
   "source": [
    "# Q5"
   ]
  },
  {
   "cell_type": "code",
   "execution_count": 5,
   "id": "30837770-9596-41a6-b515-db2adb9bfea3",
   "metadata": {
    "slideshow": {
     "slide_type": "subslide"
    },
    "tags": []
   },
   "outputs": [
    {
     "data": {
      "text/plain": [
       "5"
      ]
     },
     "execution_count": 5,
     "metadata": {},
     "output_type": "execute_result"
    }
   ],
   "source": [
    "flights.groupby(\"DayOfWeek\").size().idxmax()"
   ]
  },
  {
   "cell_type": "code",
   "execution_count": 6,
   "id": "8e3a5df0-c537-478c-80b5-cebe173ce3f9",
   "metadata": {
    "slideshow": {
     "slide_type": "skip"
    },
    "tags": []
   },
   "outputs": [
    {
     "data": {
      "text/plain": [
       "5"
      ]
     },
     "execution_count": 6,
     "metadata": {},
     "output_type": "execute_result"
    }
   ],
   "source": [
    "flights.DayOfWeek.value_counts().idxmax()"
   ]
  },
  {
   "cell_type": "markdown",
   "id": "c784612c-0b02-48a1-8e09-0471dbd277e2",
   "metadata": {},
   "source": [
    "# Q6"
   ]
  },
  {
   "cell_type": "code",
   "execution_count": 7,
   "id": "58e40656-acd6-4f42-bcb3-c506ba1a5533",
   "metadata": {},
   "outputs": [],
   "source": [
    "flights_subset = flights[(flights.DepDelay > 1) & (flights.ArrDelay > 1)]"
   ]
  },
  {
   "cell_type": "code",
   "execution_count": 8,
   "id": "4c52d6aa-f726-48c3-832f-8002b91c3a05",
   "metadata": {},
   "outputs": [],
   "source": [
    "corr = flights_subset[[\"DepDelay\", \"ArrDelay\"]].corr().at[\"DepDelay\", \"ArrDelay\"]"
   ]
  },
  {
   "cell_type": "code",
   "execution_count": 9,
   "id": "a865bf60-58e6-46c6-8f5f-19be5ec1adea",
   "metadata": {},
   "outputs": [
    {
     "data": {
      "text/plain": [
       "0.9324279653679256"
      ]
     },
     "execution_count": 9,
     "metadata": {},
     "output_type": "execute_result"
    }
   ],
   "source": [
    "corr"
   ]
  },
  {
   "cell_type": "markdown",
   "id": "5fa7c74a-c013-4854-b7ab-9faf9efd02e8",
   "metadata": {},
   "source": [
    "# Q7"
   ]
  },
  {
   "cell_type": "code",
   "execution_count": 10,
   "id": "bcbd4346-cb8d-4d4b-9808-f3d0efcfb21d",
   "metadata": {},
   "outputs": [],
   "source": [
    "pd.set_option('use_inf_as_na',True)\n",
    "flights_subset2 = flights.dropna(subset=[\"ActualElapsedTime\", \"Distance\"])"
   ]
  },
  {
   "cell_type": "code",
   "execution_count": 11,
   "id": "1ae3ea7d-e802-451d-8414-aa031db970cc",
   "metadata": {},
   "outputs": [
    {
     "data": {
      "text/plain": [
       "0.9667586070679305"
      ]
     },
     "execution_count": 11,
     "metadata": {},
     "output_type": "execute_result"
    }
   ],
   "source": [
    "corr2 = flights_subset2[[\"ActualElapsedTime\", \"Distance\"]].corr().at[\"ActualElapsedTime\", \"Distance\"]\n",
    "corr2"
   ]
  },
  {
   "cell_type": "code",
   "execution_count": 12,
   "id": "6d7cfdd9-8a43-4519-93c4-17591205c6e3",
   "metadata": {},
   "outputs": [
    {
     "data": {
      "image/png": "[encoded data removed]",
      "text/plain": [
       "<Figure size 432x288 with 2 Axes>"
      ]
     },
     "metadata": {
      "needs_background": "light"
     },
     "output_type": "display_data"
    }
   ],
   "source": [
    "from sklearn.linear_model import LinearRegression\n",
    "from yellowbrick.regressor import ResidualsPlot\n",
    "\n",
    "X = flights_subset2[[\"Distance\"]]\n",
    "y = flights_subset2[[\"ActualElapsedTime\"]]\n",
    "\n",
    "model = LinearRegression()\n",
    "visualizer = ResidualsPlot(model).fit(X, y)\n"
   ]
  },
  {
   "cell_type": "code",
   "execution_count": 13,
   "id": "b6ddcfb8-e525-4960-a28f-3960c5340c0f",
   "metadata": {},
   "outputs": [
    {
     "data": {
      "text/plain": [
       "0.1275998228299435"
      ]
     },
     "execution_count": 13,
     "metadata": {},
     "output_type": "execute_result"
    }
   ],
   "source": [
    "visualizer.coef_[0][0]"
   ]
  },
  {
   "cell_type": "code",
   "execution_count": 14,
   "id": "28c65c4c-c697-45e9-805b-965a99b17bf5",
   "metadata": {},
   "outputs": [
    {
     "data": {
      "text/plain": [
       "30.762810091207655"
      ]
     },
     "execution_count": 14,
     "metadata": {},
     "output_type": "execute_result"
    }
   ],
   "source": [
    "visualizer.intercept_[0]"
   ]
  },
  {
   "cell_type": "code",
   "execution_count": 15,
   "id": "fcdd634d-5e62-404b-b44b-eb1986badae4",
   "metadata": {},
   "outputs": [
    {
     "data": {
      "text/plain": [
       "0.9346222043399015"
      ]
     },
     "execution_count": 15,
     "metadata": {},
     "output_type": "execute_result"
    },
    {
     "data": {
      "image/png": "[encoded data removed]",
      "text/plain": [
       "<Figure size 432x288 with 2 Axes>"
      ]
     },
     "metadata": {
      "needs_background": "light"
     },
     "output_type": "display_data"
    }
   ],
   "source": [
    "visualizer.show()\n",
    "visualizer.score(X, y)"
   ]
  },
  {
   "cell_type": "markdown",
   "id": "8431606a-2ed9-4791-82d1-fb513a04dc88",
   "metadata": {},
   "source": [
    "The residuals skew heavily downward and have higher variance at lower predicted values"
   ]
  },
  {
   "cell_type": "markdown",
   "id": "20bbdee2-7991-4176-8343-73337c107968",
   "metadata": {},
   "source": [
    "# Q8 (Supplement)"
   ]
  },
  {
   "cell_type": "code",
   "execution_count": 16,
   "id": "d9f02da6-cdfc-4e69-b9ad-ffc6c76148f2",
   "metadata": {},
   "outputs": [
    {
     "name": "stdout",
     "output_type": "stream",
     "text": [
      "9.639999999999999 -236.0\n",
      "52.864 -71.6\n"
     ]
    }
   ],
   "source": [
    "learningRate = 0.04\n",
    "\n",
    "x = np.array([1, 2, 3, 4, 5])\n",
    "y = np.array([101, 111, 122, 133, 144])\n",
    "\n",
    "m_current = 0.2\n",
    "b_current = 50\n",
    "\n",
    "y_prediction = m_current * x + b_current\n",
    "\n",
    "# calculate gradients. \n",
    "m_gradient = np.mean (x*(y_prediction - y) )\n",
    "b_gradient = np.mean (y_prediction - y)\n",
    "\n",
    "# update the weights - Regression Coefficients \n",
    "m_current = m_current - learningRate * m_gradient\n",
    "b_current = b_current - learningRate * b_gradient\n",
    "\n",
    "print(m_current, m_gradient)\n",
    "print(b_current, b_gradient)\n",
    "\n"
   ]
  },
  {
   "cell_type": "code",
   "execution_count": null,
   "id": "157420ad-b59d-4251-b7e0-a1f7210cbfed",
   "metadata": {},
   "outputs": [],
   "source": []
  }
 ],
 "metadata": {
  "kernelspec": {
   "display_name": "Python 3 (ipykernel)",
   "language": "python",
   "name": "python3"
  },
  "language_info": {
   "codemirror_mode": {
    "name": "ipython",
    "version": 3
   },
   "file_extension": ".py",
   "mimetype": "text/x-python",
   "name": "python",
   "nbconvert_exporter": "python",
   "pygments_lexer": "ipython3",
   "version": "3.9.7"
  }
 },
 "nbformat": 4,
 "nbformat_minor": 5
}
