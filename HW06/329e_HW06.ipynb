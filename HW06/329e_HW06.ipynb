{
 "cells": [
  {
   "cell_type": "markdown",
   "metadata": {},
   "source": [
    "# Assignment 6 - Logistic Regression without using any libraries\n",
    "\n",
    "(20 points)\n",
    "\n",
    "### Add your name(s) and EIDs below\n",
    "- Student Name: Siem Yonas\n",
    "- Student UT EID: sby237\n",
    "- Partner Name:\n",
    "- Partner UT EID:\n",
    "\n",
    "### Grading clarifications\n",
    "1. Before you submit:\n",
    "    - **Please do not change or remove any variable names** we give you for your answer to each question. You can use other variables if you wish, but the final answer must be stored in that variable.\n",
    "    - **Please don't use any other libraries** besides those provided in `requirements.txt`, and those [built in to Python](https://docs.python.org/3.8/library/index.html).\n",
    "2. We will also be double-checking the autograder, so you won't lose points if your formatting causes it to deduct points (but please try to follow the points under 1). There is also some built-in tolerance in case any of your values are off.\n",
    "3. After submitting, you may see \"All test cases passed!\" for Public Tests. Please note that this doesn't mean you have correctly answered every question, as there are no public tests. We will be using a series of hidden tests to verify your answers are correct.\n",
    "\n",
    "**You are only allowed to use the below libraries that are imported. No other libraries should be used in this assignment.**"
   ]
  },
  {
   "cell_type": "code",
   "execution_count": 1,
   "metadata": {},
   "outputs": [],
   "source": [
    "# Standard Headers\n",
    "import pandas as pd\n",
    "import numpy as np\n",
    "import matplotlib.pyplot as plt\n",
    "\n",
    "# Enable inline mode for matplotlib so that Jupyter displays graphs\n",
    "%matplotlib inline"
   ]
  },
  {
   "cell_type": "markdown",
   "metadata": {},
   "source": [
    "## Heart Dataset \n",
    "\n",
    "In this Assignment we will work with a dataset of patients. \n",
    "We have access to 303 patients' data. The features are listed below. "
   ]
  },
  {
   "cell_type": "code",
   "execution_count": 2,
   "metadata": {},
   "outputs": [
    {
     "data": {
      "text/html": [
       "<div>\n",
       "<style scoped>\n",
       "    .dataframe tbody tr th:only-of-type {\n",
       "        vertical-align: middle;\n",
       "    }\n",
       "\n",
       "    .dataframe tbody tr th {\n",
       "        vertical-align: top;\n",
       "    }\n",
       "\n",
       "    .dataframe thead th {\n",
       "        text-align: right;\n",
       "    }\n",
       "</style>\n",
       "<table border=\"1\" class=\"dataframe\">\n",
       "  <thead>\n",
       "    <tr style=\"text-align: right;\">\n",
       "      <th></th>\n",
       "      <th>Age</th>\n",
       "      <th>Sex</th>\n",
       "      <th>ChestPain</th>\n",
       "      <th>RestBP</th>\n",
       "      <th>Chol</th>\n",
       "      <th>Fbs</th>\n",
       "      <th>RestECG</th>\n",
       "      <th>MaxHR</th>\n",
       "      <th>ExAng</th>\n",
       "      <th>Oldpeak</th>\n",
       "      <th>Slope</th>\n",
       "      <th>Ca</th>\n",
       "      <th>Thal</th>\n",
       "      <th>Target</th>\n",
       "    </tr>\n",
       "  </thead>\n",
       "  <tbody>\n",
       "    <tr>\n",
       "      <th>0</th>\n",
       "      <td>63</td>\n",
       "      <td>1</td>\n",
       "      <td>typical</td>\n",
       "      <td>145</td>\n",
       "      <td>233</td>\n",
       "      <td>1</td>\n",
       "      <td>2</td>\n",
       "      <td>150</td>\n",
       "      <td>0</td>\n",
       "      <td>2.3</td>\n",
       "      <td>3</td>\n",
       "      <td>0.0</td>\n",
       "      <td>fixed</td>\n",
       "      <td>No</td>\n",
       "    </tr>\n",
       "    <tr>\n",
       "      <th>1</th>\n",
       "      <td>67</td>\n",
       "      <td>1</td>\n",
       "      <td>asymptomatic</td>\n",
       "      <td>160</td>\n",
       "      <td>286</td>\n",
       "      <td>0</td>\n",
       "      <td>2</td>\n",
       "      <td>108</td>\n",
       "      <td>1</td>\n",
       "      <td>1.5</td>\n",
       "      <td>2</td>\n",
       "      <td>3.0</td>\n",
       "      <td>normal</td>\n",
       "      <td>Yes</td>\n",
       "    </tr>\n",
       "    <tr>\n",
       "      <th>2</th>\n",
       "      <td>67</td>\n",
       "      <td>1</td>\n",
       "      <td>asymptomatic</td>\n",
       "      <td>120</td>\n",
       "      <td>229</td>\n",
       "      <td>0</td>\n",
       "      <td>2</td>\n",
       "      <td>129</td>\n",
       "      <td>1</td>\n",
       "      <td>2.6</td>\n",
       "      <td>2</td>\n",
       "      <td>2.0</td>\n",
       "      <td>reversable</td>\n",
       "      <td>Yes</td>\n",
       "    </tr>\n",
       "    <tr>\n",
       "      <th>3</th>\n",
       "      <td>37</td>\n",
       "      <td>1</td>\n",
       "      <td>nonanginal</td>\n",
       "      <td>130</td>\n",
       "      <td>250</td>\n",
       "      <td>0</td>\n",
       "      <td>0</td>\n",
       "      <td>187</td>\n",
       "      <td>0</td>\n",
       "      <td>3.5</td>\n",
       "      <td>3</td>\n",
       "      <td>0.0</td>\n",
       "      <td>normal</td>\n",
       "      <td>No</td>\n",
       "    </tr>\n",
       "    <tr>\n",
       "      <th>4</th>\n",
       "      <td>41</td>\n",
       "      <td>0</td>\n",
       "      <td>nontypical</td>\n",
       "      <td>130</td>\n",
       "      <td>204</td>\n",
       "      <td>0</td>\n",
       "      <td>2</td>\n",
       "      <td>172</td>\n",
       "      <td>0</td>\n",
       "      <td>1.4</td>\n",
       "      <td>1</td>\n",
       "      <td>0.0</td>\n",
       "      <td>normal</td>\n",
       "      <td>No</td>\n",
       "    </tr>\n",
       "    <tr>\n",
       "      <th>...</th>\n",
       "      <td>...</td>\n",
       "      <td>...</td>\n",
       "      <td>...</td>\n",
       "      <td>...</td>\n",
       "      <td>...</td>\n",
       "      <td>...</td>\n",
       "      <td>...</td>\n",
       "      <td>...</td>\n",
       "      <td>...</td>\n",
       "      <td>...</td>\n",
       "      <td>...</td>\n",
       "      <td>...</td>\n",
       "      <td>...</td>\n",
       "      <td>...</td>\n",
       "    </tr>\n",
       "    <tr>\n",
       "      <th>298</th>\n",
       "      <td>45</td>\n",
       "      <td>1</td>\n",
       "      <td>typical</td>\n",
       "      <td>110</td>\n",
       "      <td>264</td>\n",
       "      <td>0</td>\n",
       "      <td>0</td>\n",
       "      <td>132</td>\n",
       "      <td>0</td>\n",
       "      <td>1.2</td>\n",
       "      <td>2</td>\n",
       "      <td>0.0</td>\n",
       "      <td>reversable</td>\n",
       "      <td>Yes</td>\n",
       "    </tr>\n",
       "    <tr>\n",
       "      <th>299</th>\n",
       "      <td>68</td>\n",
       "      <td>1</td>\n",
       "      <td>asymptomatic</td>\n",
       "      <td>144</td>\n",
       "      <td>193</td>\n",
       "      <td>1</td>\n",
       "      <td>0</td>\n",
       "      <td>141</td>\n",
       "      <td>0</td>\n",
       "      <td>3.4</td>\n",
       "      <td>2</td>\n",
       "      <td>2.0</td>\n",
       "      <td>reversable</td>\n",
       "      <td>Yes</td>\n",
       "    </tr>\n",
       "    <tr>\n",
       "      <th>300</th>\n",
       "      <td>57</td>\n",
       "      <td>1</td>\n",
       "      <td>asymptomatic</td>\n",
       "      <td>130</td>\n",
       "      <td>131</td>\n",
       "      <td>0</td>\n",
       "      <td>0</td>\n",
       "      <td>115</td>\n",
       "      <td>1</td>\n",
       "      <td>1.2</td>\n",
       "      <td>2</td>\n",
       "      <td>1.0</td>\n",
       "      <td>reversable</td>\n",
       "      <td>Yes</td>\n",
       "    </tr>\n",
       "    <tr>\n",
       "      <th>301</th>\n",
       "      <td>57</td>\n",
       "      <td>0</td>\n",
       "      <td>nontypical</td>\n",
       "      <td>130</td>\n",
       "      <td>236</td>\n",
       "      <td>0</td>\n",
       "      <td>2</td>\n",
       "      <td>174</td>\n",
       "      <td>0</td>\n",
       "      <td>0.0</td>\n",
       "      <td>2</td>\n",
       "      <td>1.0</td>\n",
       "      <td>normal</td>\n",
       "      <td>Yes</td>\n",
       "    </tr>\n",
       "    <tr>\n",
       "      <th>302</th>\n",
       "      <td>38</td>\n",
       "      <td>1</td>\n",
       "      <td>nonanginal</td>\n",
       "      <td>138</td>\n",
       "      <td>175</td>\n",
       "      <td>0</td>\n",
       "      <td>0</td>\n",
       "      <td>173</td>\n",
       "      <td>0</td>\n",
       "      <td>0.0</td>\n",
       "      <td>1</td>\n",
       "      <td>NaN</td>\n",
       "      <td>normal</td>\n",
       "      <td>No</td>\n",
       "    </tr>\n",
       "  </tbody>\n",
       "</table>\n",
       "<p>303 rows × 14 columns</p>\n",
       "</div>"
      ],
      "text/plain": [
       "     Age  Sex     ChestPain  RestBP  Chol  Fbs  RestECG  MaxHR  ExAng  \\\n",
       "0     63    1       typical     145   233    1        2    150      0   \n",
       "1     67    1  asymptomatic     160   286    0        2    108      1   \n",
       "2     67    1  asymptomatic     120   229    0        2    129      1   \n",
       "3     37    1    nonanginal     130   250    0        0    187      0   \n",
       "4     41    0    nontypical     130   204    0        2    172      0   \n",
       "..   ...  ...           ...     ...   ...  ...      ...    ...    ...   \n",
       "298   45    1       typical     110   264    0        0    132      0   \n",
       "299   68    1  asymptomatic     144   193    1        0    141      0   \n",
       "300   57    1  asymptomatic     130   131    0        0    115      1   \n",
       "301   57    0    nontypical     130   236    0        2    174      0   \n",
       "302   38    1    nonanginal     138   175    0        0    173      0   \n",
       "\n",
       "     Oldpeak  Slope   Ca        Thal Target  \n",
       "0        2.3      3  0.0       fixed     No  \n",
       "1        1.5      2  3.0      normal    Yes  \n",
       "2        2.6      2  2.0  reversable    Yes  \n",
       "3        3.5      3  0.0      normal     No  \n",
       "4        1.4      1  0.0      normal     No  \n",
       "..       ...    ...  ...         ...    ...  \n",
       "298      1.2      2  0.0  reversable    Yes  \n",
       "299      3.4      2  2.0  reversable    Yes  \n",
       "300      1.2      2  1.0  reversable    Yes  \n",
       "301      0.0      2  1.0      normal    Yes  \n",
       "302      0.0      1  NaN      normal     No  \n",
       "\n",
       "[303 rows x 14 columns]"
      ]
     },
     "execution_count": 2,
     "metadata": {},
     "output_type": "execute_result"
    }
   ],
   "source": [
    "# Your code here\n",
    "heart_df = pd.read_csv(\"Heart.csv\")\n",
    "heart_df"
   ]
  },
  {
   "cell_type": "markdown",
   "metadata": {},
   "source": [
    "**Age:** The person’s age in years\n",
    "\n",
    "**Sex:** The person’s sex (1 = male, 0 = female)\n",
    "\n",
    "**ChestPain:** chest pain type\n",
    "* Value 0: asymptomatic\n",
    "* Value 1: atypical angina\n",
    "* Value 2: non-anginal pain\n",
    "* Value 3: typical angina\n",
    "\n",
    "**RestBP:** The person’s resting blood pressure (mm Hg on admission to the hospital)\n",
    "\n",
    "**Chol:** The person’s cholesterol measurement in mg/dl\n",
    "\n",
    "**Fbs:** The person’s fasting blood sugar (> 120 mg/dl, 1 = true; 0 = false)\n",
    "\n",
    "**RestECG**: resting electrocardiographic results\n",
    "* Value 0: showing probable or definite left ventricular hypertrophy by Estes’ criteria\n",
    "* Value 1: normal\n",
    "* Value 2: having ST-T wave abnormality (T wave inversions and/or ST elevation or depression of > 0.05 mV)\n",
    "\n",
    "**MaxHR:** The person’s maximum heart rate achieved\n",
    "\n",
    "**ExAng:** Exercise induced angina (1 = yes; 0 = no)\n",
    "\n",
    "**Oldpeak:** ST depression induced by exercise relative to rest (‘ST’ relates to positions on the ECG plot.)\n",
    "\n",
    "**Slope:** the slope of the peak exercise ST segment\n",
    "* 0: downsloping; \n",
    "* 1: flat; \n",
    "* 2: upsloping\n",
    "\n",
    "**Ca:** The number of major vessels (0–3)\n",
    "\n",
    "**Thal:** A blood disorder called thalassemia \n",
    "* Value 0: NULL (dropped from the dataset previously\n",
    "* Value 1: fixed defect (no blood flow in some part of the heart)\n",
    "* Value 2: normal blood flow\n",
    "* Value 3: reversible defect (a blood flow is observed but it is not normal)\n",
    "\n",
    "**Target:** Heart disease (1 = no, 0= yes)"
   ]
  },
  {
   "cell_type": "markdown",
   "metadata": {},
   "source": [
    "# Q1\n",
    "We want to use logistic regerssion to predict if a patient will have heart problems or not. The column \"Target\" in our datasets includes data about heart disease. If the patient had heart disease, the patient's \"Target\" value equals 1. Otherwise, \"Target\" equals 0.\n",
    "\n",
    "Prepare your data set for predicting heart disease (\"Target\" column) by using 3 features:\n",
    "\n",
    "* Age of the patient (Column **\"Age\"**)\n",
    "* Gender of the patient (male or female - Column **\"Sex\"**)\n",
    "* Cholestrol level of the patient (Column **\"Chol\"**) \n",
    "\n",
    "Split your data into 80% traning data and 20% test data ***without*** using any libraries other than the ones imported above. You must do it manually.\n",
    "\n",
    "* Do a maximum of **100 iterations**\n",
    "* Use a very small learning rate for checking your GD implementation. \n",
    "* Your are allowed to use your choice of learning rate, like using 0.0001, 0.001 or 0.01 or 0.1 or higher/lower. \n",
    "* **Visualize your error/costs over the iterations with a plot**.\n",
    "* No need to add an y-intercept in this task. \n",
    "\n",
    "(**4 points** - 3 points for code, 1 point for cost visualization)"
   ]
  },
  {
   "cell_type": "markdown",
   "metadata": {},
   "source": [
    "<!-- BEGIN QUESTION -->\n",
    "\n"
   ]
  },
  {
   "cell_type": "code",
   "execution_count": 3,
   "metadata": {
    "tags": []
   },
   "outputs": [],
   "source": [
    "# Construct the full dataset.\n",
    "X = heart_df[[\"Age\", \"Sex\", \"Chol\"]]\n",
    "y = heart_df[\"Target\"].map({'Yes':1, 'No':0})\n",
    "\n",
    "# Normalize input features\n",
    "X = (X - X.mean())/X.std()"
   ]
  },
  {
   "cell_type": "code",
   "execution_count": 4,
   "metadata": {
    "tags": []
   },
   "outputs": [],
   "source": [
    "# Implement the below helper functions to set up your logistic regression.\n",
    "def train_test_split(X, y, testing_size=0.2, random_state=123):\n",
    "    \"\"\"Split the dataset into a training and testing set.\n",
    "    \"\"\"\n",
    "    X_test = X.sample(frac=testing_size, random_state=random_state)\n",
    "    X_train = X.drop(X_test.index)\n",
    "    y_test = y.sample(frac=testing_size, random_state=random_state)\n",
    "    y_train = y.drop(y_test.index)\n",
    "    \n",
    "    return X_train, X_test, y_train, y_test\n",
    "\n",
    "def logistic_regression(X, weights):\n",
    "    \"\"\"Use the logistic regression equation to predict over all\n",
    "    samples in the X array. We have to do it for each of the three \n",
    "    features (or four with intercept) using our weights array.\n",
    "    \"\"\"\n",
    "    L = X.dot(weights)\n",
    "    pred = 1 / (1 + np.exp(-L))  \n",
    "    return pred \n",
    "\n",
    "def cost_function(y, pred):\n",
    "    \"\"\"Cost function for logistic regression\n",
    "    \"\"\"\n",
    "    cost = (-y.T.dot(np.log(pred)) - (1-y).T.dot(np.log(1-pred))) / len(X)\n",
    "    return cost\n",
    "\n",
    "def gradient(X, y, pred):\n",
    "    \"\"\"Get the MSE gradient for each variable in the set.\n",
    "    Since each feature depends on its column in i, we\n",
    "    get three (or four with intercept) different gradients \n",
    "    for each of the coefficients/features.\n",
    "    \"\"\"    \n",
    "    gradient = (pred-y).T.dot(X) / len(X)\n",
    "    return gradient"
   ]
  },
  {
   "cell_type": "code",
   "execution_count": 5,
   "metadata": {
    "scrolled": true,
    "tags": []
   },
   "outputs": [
    {
     "name": "stdout",
     "output_type": "stream",
     "text": [
      "Iteration   1: Cost: 0.5536\n",
      "Iteration   2: Cost: 0.5482\n",
      "Iteration   3: Cost: 0.5433\n",
      "Iteration   4: Cost: 0.5388\n",
      "Iteration   5: Cost: 0.5348\n",
      "Iteration   6: Cost: 0.5311\n",
      "Iteration   7: Cost: 0.5278\n",
      "Iteration   8: Cost: 0.5248\n",
      "Iteration   9: Cost: 0.5220\n",
      "Iteration  10: Cost: 0.5195\n",
      "Iteration  11: Cost: 0.5172\n",
      "Iteration  12: Cost: 0.5151\n",
      "Iteration  13: Cost: 0.5132\n",
      "Iteration  14: Cost: 0.5114\n",
      "Iteration  15: Cost: 0.5098\n",
      "Iteration  16: Cost: 0.5084\n",
      "Iteration  17: Cost: 0.5070\n",
      "Iteration  18: Cost: 0.5058\n",
      "Iteration  19: Cost: 0.5047\n",
      "Iteration  20: Cost: 0.5036\n",
      "Iteration  21: Cost: 0.5027\n",
      "Iteration  22: Cost: 0.5018\n",
      "Iteration  23: Cost: 0.5010\n",
      "Iteration  24: Cost: 0.5002\n",
      "Iteration  25: Cost: 0.4995\n",
      "Iteration  26: Cost: 0.4989\n",
      "Iteration  27: Cost: 0.4983\n",
      "Iteration  28: Cost: 0.4977\n",
      "Iteration  29: Cost: 0.4972\n",
      "Iteration  30: Cost: 0.4968\n",
      "Iteration  31: Cost: 0.4963\n",
      "Iteration  32: Cost: 0.4959\n",
      "Iteration  33: Cost: 0.4956\n",
      "Iteration  34: Cost: 0.4952\n",
      "Iteration  35: Cost: 0.4949\n",
      "Iteration  36: Cost: 0.4946\n",
      "Iteration  37: Cost: 0.4943\n",
      "Iteration  38: Cost: 0.4941\n",
      "Iteration  39: Cost: 0.4938\n",
      "Iteration  40: Cost: 0.4936\n",
      "Iteration  41: Cost: 0.4934\n",
      "Iteration  42: Cost: 0.4932\n",
      "Iteration  43: Cost: 0.4930\n",
      "Iteration  44: Cost: 0.4928\n",
      "Iteration  45: Cost: 0.4927\n",
      "Iteration  46: Cost: 0.4925\n",
      "Iteration  47: Cost: 0.4924\n",
      "Iteration  48: Cost: 0.4923\n",
      "Iteration  49: Cost: 0.4922\n",
      "Iteration  50: Cost: 0.4920\n",
      "Iteration  51: Cost: 0.4919\n",
      "Iteration  52: Cost: 0.4918\n",
      "Iteration  53: Cost: 0.4918\n",
      "Iteration  54: Cost: 0.4917\n",
      "Iteration  55: Cost: 0.4916\n",
      "Iteration  56: Cost: 0.4915\n",
      "Iteration  57: Cost: 0.4914\n",
      "Iteration  58: Cost: 0.4914\n",
      "Iteration  59: Cost: 0.4913\n",
      "Iteration  60: Cost: 0.4913\n",
      "Iteration  61: Cost: 0.4912\n",
      "Iteration  62: Cost: 0.4912\n",
      "Iteration  63: Cost: 0.4911\n",
      "Iteration  64: Cost: 0.4911\n",
      "Iteration  65: Cost: 0.4910\n",
      "Iteration  66: Cost: 0.4910\n",
      "Iteration  67: Cost: 0.4910\n",
      "Iteration  68: Cost: 0.4909\n",
      "Iteration  69: Cost: 0.4909\n",
      "Iteration  70: Cost: 0.4909\n",
      "Iteration  71: Cost: 0.4908\n",
      "Iteration  72: Cost: 0.4908\n",
      "Iteration  73: Cost: 0.4908\n",
      "Iteration  74: Cost: 0.4908\n",
      "Iteration  75: Cost: 0.4907\n",
      "Iteration  76: Cost: 0.4907\n",
      "Iteration  77: Cost: 0.4907\n",
      "Iteration  78: Cost: 0.4907\n",
      "Iteration  79: Cost: 0.4907\n",
      "Iteration  80: Cost: 0.4906\n",
      "Iteration  81: Cost: 0.4906\n",
      "Iteration  82: Cost: 0.4906\n",
      "Iteration  83: Cost: 0.4906\n",
      "Iteration  84: Cost: 0.4906\n",
      "Iteration  85: Cost: 0.4906\n",
      "Iteration  86: Cost: 0.4906\n",
      "Iteration  87: Cost: 0.4906\n",
      "Iteration  88: Cost: 0.4906\n",
      "Iteration  89: Cost: 0.4905\n",
      "Iteration  90: Cost: 0.4905\n",
      "Iteration  91: Cost: 0.4905\n",
      "Iteration  92: Cost: 0.4905\n",
      "Iteration  93: Cost: 0.4905\n",
      "Iteration  94: Cost: 0.4905\n",
      "Iteration  95: Cost: 0.4905\n",
      "Iteration  96: Cost: 0.4905\n",
      "Iteration  97: Cost: 0.4905\n",
      "Iteration  98: Cost: 0.4905\n",
      "Iteration  99: Cost: 0.4905\n",
      "Iteration 100: Cost: 0.4905\n"
     ]
    }
   ],
   "source": [
    "# Split dataset\n",
    "X_train, X_test, y_train, y_test = train_test_split(X, y, 0.2)\n",
    "\n",
    "# Set parameters:\n",
    "# lr = learning rate\n",
    "# iterations = number of iterations\n",
    "# cost = mean squared error at each iteration (used to plot)\n",
    "# weights = array of logistic regression weights\n",
    "lr = 0.2\n",
    "iterations = 100\n",
    "costs = []\n",
    "weights = np.zeros(X_train.shape[1])\n",
    "\n",
    "# Perform your logistic regression.\n",
    "for i in range(iterations):\n",
    "    pred = logistic_regression(X_train, weights)\n",
    "    \n",
    "    cost = cost_function(y_train, pred)\n",
    "    \n",
    "    costs.append(cost)\n",
    "    \n",
    "    grad = gradient(X_train, y_train, pred)\n",
    "    \n",
    "    weights -= lr * grad\n",
    "    \n",
    "    print(f\"Iteration {i+1:3}: Cost: {cost:5.4f}\")\n"
   ]
  },
  {
   "cell_type": "code",
   "execution_count": 6,
   "metadata": {},
   "outputs": [
    {
     "data": {
      "text/plain": [
       "Age     0.596402\n",
       "Sex     0.614547\n",
       "Chol    0.247156\n",
       "dtype: float64"
      ]
     },
     "execution_count": 6,
     "metadata": {},
     "output_type": "execute_result"
    }
   ],
   "source": [
    "weights"
   ]
  },
  {
   "cell_type": "code",
   "execution_count": 7,
   "metadata": {
    "tags": []
   },
   "outputs": [
    {
     "data": {
      "text/plain": [
       "Text(0, 0.5, 'Cost')"
      ]
     },
     "execution_count": 7,
     "metadata": {},
     "output_type": "execute_result"
    },
    {
     "data": {
      "image/png": "[encoded data removed]",
      "text/plain": [
       "<Figure size 432x288 with 1 Axes>"
      ]
     },
     "metadata": {
      "needs_background": "light"
     },
     "output_type": "display_data"
    }
   ],
   "source": [
    "# Visualize your costs.\n",
    "plt.plot(costs)\n",
    "plt.title(\"Gradient Descent\")\n",
    "plt.xlabel(\"Iteration\")\n",
    "plt.ylabel(\"Cost\")"
   ]
  },
  {
   "cell_type": "markdown",
   "metadata": {},
   "source": [
    "<!-- END QUESTION -->\n",
    "\n",
    "# Q2\n",
    "\n",
    "Calcuate the accuracy, precision, recall and F1 score of your logistic regression implementaion on the testing set. \n",
    "Print the results. (**4 points**)\n",
    "\n",
    "With random_state = 123:\n",
    "- Cost     : 7.615464644719344\n",
    "- Accuracy : 65.57377049180327 %\n",
    "- Precision: 58.97435897435898 %\n",
    "- Recall   : 82.14285714285714 %\n",
    "- F1 score : 0.6865671641791046"
   ]
  },
  {
   "cell_type": "markdown",
   "metadata": {},
   "source": [
    "<!-- BEGIN QUESTION -->\n",
    "\n"
   ]
  },
  {
   "cell_type": "code",
   "execution_count": 8,
   "metadata": {
    "tags": []
   },
   "outputs": [],
   "source": [
    "def precision(y, pred):\n",
    "    \"\"\"Calculate precision.\n",
    "    \"\"\"\n",
    "    y = y > 0.5\n",
    "    pred = pred > 0.5\n",
    "     \n",
    "    TP = len(y[np.equal(pred, 1) & np.equal(y, 1)])\n",
    "    FP = len(y[np.equal(pred, 1) & np.equal(y, 0)])\n",
    "    \n",
    "    if TP+FP == 0:\n",
    "        return np.nan\n",
    "    \n",
    "    precision = TP/(TP+FP)\n",
    "    return precision\n",
    "\n",
    "def recall(y, pred):\n",
    "    \"\"\"Calculate recall.\n",
    "    \"\"\"\n",
    "    y = y > 0.5\n",
    "    pred = pred > 0.5\n",
    "    \n",
    "    TP = len(y[np.equal(pred, 1) & np.equal(y, 1)])\n",
    "    FN = len(y[np.equal(pred, 0) & np.equal(y, 1)])\n",
    "    \n",
    "    if TP+FN == 0:\n",
    "        return np.nan\n",
    "    \n",
    "    recall = TP/(TP+FN)\n",
    "    return recall\n",
    "    \n",
    "def f1_score(y, pred):\n",
    "    \"\"\"Calculate F1 score.\n",
    "    \"\"\"\n",
    "    prec = precision(y, pred)\n",
    "    rec = recall(y, pred)\n",
    "    \n",
    "    if np.isnan(prec) or np.isnan(rec):\n",
    "        return np.nan\n",
    "    \n",
    "    f1_score = 2 * (prec * rec)/(prec + rec)\n",
    "    return f1_score\n",
    "\n",
    "def accuracy(y, pred):\n",
    "    \"\"\"Calculate accuracy.\n",
    "    \"\"\"\n",
    "    pred = pred > 0.5\n",
    "    \n",
    "    accuracy = np.mean(pred == y)\n",
    "    return accuracy"
   ]
  },
  {
   "cell_type": "code",
   "execution_count": 9,
   "metadata": {
    "tags": []
   },
   "outputs": [
    {
     "name": "stdout",
     "output_type": "stream",
     "text": [
      "Testing set:\n",
      "    Cost     : 7.615464644719344\n",
      "    Accuracy : 65.57377049180327 %\n",
      "    Precision: 58.97435897435898 %\n",
      "    Recall   : 82.14285714285714 %\n",
      "    F1 score : 0.6865671641791046\n"
     ]
    }
   ],
   "source": [
    "pred = logistic_regression(X_test, weights)\n",
    "cost = cost_function(y_test, pred) * len(y_test) # Multiply by length to undo the \"mean\" in mean-squared error.\n",
    "acc = accuracy(y_test, pred)\n",
    "pr = precision(y_test, pred)\n",
    "rc = recall(y_test, pred)\n",
    "f1 = f1_score(y_test, pred)\n",
    "\n",
    "print('Testing set:')\n",
    "print('    Cost     :', cost)\n",
    "print('    Accuracy :', acc*100, '%')\n",
    "print('    Precision:', pr*100, '%')\n",
    "print('    Recall   :', rc*100, '%')\n",
    "print('    F1 score :', f1)"
   ]
  },
  {
   "cell_type": "markdown",
   "metadata": {},
   "source": [
    "<!-- END QUESTION -->\n",
    "\n",
    "# Q3\n",
    "\n",
    "Add a y-intercept and repeat the above tasks. Do you see any differences after adding the y-intercept?\n",
    "\n",
    "(**4 points** - 2 for code, 1 for cost visualizaiton, 1 for description.)\n",
    "\n",
    "With random_state = 123:\n",
    "- Cost     : 7.485052006578775\n",
    "- Accuracy : 70.49180327868852 %\n",
    "- Precision: 66.66666666666666 %\n",
    "- Recall   : 71.42857142857143 %\n",
    "- F1 score : 0.689655172413793\n",
    "\n",
    "Compared to the model without the intercept:\n",
    "- Cost goes down slightly\n",
    "- Accuracy slightly increases\n",
    "- Precision increases (more of the heart disease postive predictions are correct)\n",
    "- Recall decreases (less of all true postives are spotted)\n",
    "- F1-score slightly increases.\n",
    "\n"
   ]
  },
  {
   "cell_type": "markdown",
   "metadata": {},
   "source": [
    "<!-- BEGIN QUESTION -->\n",
    "\n"
   ]
  },
  {
   "cell_type": "code",
   "execution_count": 10,
   "metadata": {
    "scrolled": true,
    "tags": []
   },
   "outputs": [
    {
     "name": "stdout",
     "output_type": "stream",
     "text": [
      "Iteration   1: Cost: 0.5536\n",
      "Iteration   2: Cost: 0.5479\n",
      "Iteration   3: Cost: 0.5428\n",
      "Iteration   4: Cost: 0.5381\n",
      "Iteration   5: Cost: 0.5339\n",
      "Iteration   6: Cost: 0.5301\n",
      "Iteration   7: Cost: 0.5267\n",
      "Iteration   8: Cost: 0.5235\n",
      "Iteration   9: Cost: 0.5207\n",
      "Iteration  10: Cost: 0.5181\n",
      "Iteration  11: Cost: 0.5157\n",
      "Iteration  12: Cost: 0.5136\n",
      "Iteration  13: Cost: 0.5116\n",
      "Iteration  14: Cost: 0.5098\n",
      "Iteration  15: Cost: 0.5082\n",
      "Iteration  16: Cost: 0.5067\n",
      "Iteration  17: Cost: 0.5053\n",
      "Iteration  18: Cost: 0.5040\n",
      "Iteration  19: Cost: 0.5029\n",
      "Iteration  20: Cost: 0.5018\n",
      "Iteration  21: Cost: 0.5008\n",
      "Iteration  22: Cost: 0.4999\n",
      "Iteration  23: Cost: 0.4991\n",
      "Iteration  24: Cost: 0.4983\n",
      "Iteration  25: Cost: 0.4976\n",
      "Iteration  26: Cost: 0.4969\n",
      "Iteration  27: Cost: 0.4963\n",
      "Iteration  28: Cost: 0.4957\n",
      "Iteration  29: Cost: 0.4952\n",
      "Iteration  30: Cost: 0.4947\n",
      "Iteration  31: Cost: 0.4943\n",
      "Iteration  32: Cost: 0.4939\n",
      "Iteration  33: Cost: 0.4935\n",
      "Iteration  34: Cost: 0.4931\n",
      "Iteration  35: Cost: 0.4928\n",
      "Iteration  36: Cost: 0.4925\n",
      "Iteration  37: Cost: 0.4922\n",
      "Iteration  38: Cost: 0.4919\n",
      "Iteration  39: Cost: 0.4917\n",
      "Iteration  40: Cost: 0.4914\n",
      "Iteration  41: Cost: 0.4912\n",
      "Iteration  42: Cost: 0.4910\n",
      "Iteration  43: Cost: 0.4908\n",
      "Iteration  44: Cost: 0.4907\n",
      "Iteration  45: Cost: 0.4905\n",
      "Iteration  46: Cost: 0.4903\n",
      "Iteration  47: Cost: 0.4902\n",
      "Iteration  48: Cost: 0.4901\n",
      "Iteration  49: Cost: 0.4899\n",
      "Iteration  50: Cost: 0.4898\n",
      "Iteration  51: Cost: 0.4897\n",
      "Iteration  52: Cost: 0.4896\n",
      "Iteration  53: Cost: 0.4895\n",
      "Iteration  54: Cost: 0.4894\n",
      "Iteration  55: Cost: 0.4893\n",
      "Iteration  56: Cost: 0.4893\n",
      "Iteration  57: Cost: 0.4892\n",
      "Iteration  58: Cost: 0.4891\n",
      "Iteration  59: Cost: 0.4890\n",
      "Iteration  60: Cost: 0.4890\n",
      "Iteration  61: Cost: 0.4889\n",
      "Iteration  62: Cost: 0.4889\n",
      "Iteration  63: Cost: 0.4888\n",
      "Iteration  64: Cost: 0.4888\n",
      "Iteration  65: Cost: 0.4887\n",
      "Iteration  66: Cost: 0.4887\n",
      "Iteration  67: Cost: 0.4886\n",
      "Iteration  68: Cost: 0.4886\n",
      "Iteration  69: Cost: 0.4886\n",
      "Iteration  70: Cost: 0.4885\n",
      "Iteration  71: Cost: 0.4885\n",
      "Iteration  72: Cost: 0.4885\n",
      "Iteration  73: Cost: 0.4885\n",
      "Iteration  74: Cost: 0.4884\n",
      "Iteration  75: Cost: 0.4884\n",
      "Iteration  76: Cost: 0.4884\n",
      "Iteration  77: Cost: 0.4884\n",
      "Iteration  78: Cost: 0.4883\n",
      "Iteration  79: Cost: 0.4883\n",
      "Iteration  80: Cost: 0.4883\n",
      "Iteration  81: Cost: 0.4883\n",
      "Iteration  82: Cost: 0.4883\n",
      "Iteration  83: Cost: 0.4883\n",
      "Iteration  84: Cost: 0.4882\n",
      "Iteration  85: Cost: 0.4882\n",
      "Iteration  86: Cost: 0.4882\n",
      "Iteration  87: Cost: 0.4882\n",
      "Iteration  88: Cost: 0.4882\n",
      "Iteration  89: Cost: 0.4882\n",
      "Iteration  90: Cost: 0.4882\n",
      "Iteration  91: Cost: 0.4882\n",
      "Iteration  92: Cost: 0.4882\n",
      "Iteration  93: Cost: 0.4882\n",
      "Iteration  94: Cost: 0.4881\n",
      "Iteration  95: Cost: 0.4881\n",
      "Iteration  96: Cost: 0.4881\n",
      "Iteration  97: Cost: 0.4881\n",
      "Iteration  98: Cost: 0.4881\n",
      "Iteration  99: Cost: 0.4881\n",
      "Iteration 100: Cost: 0.4881\n"
     ]
    }
   ],
   "source": [
    "# Modify your dataset so that it supports a constant y-intercept term\n",
    "# (Hint: what column would we want to add to our dataset matrix, so that when \n",
    "#        multiplied by the y-intercept, we get the same value every time?)\n",
    "\n",
    "ones = pd.Series(np.ones((len(X)))).rename(\"intercept\")\n",
    "\n",
    "X_modified = pd.concat([X, ones], axis=1)\n",
    "\n",
    "# Split dataset (with intercept)\n",
    "X_train, X_test, y_train, y_test = train_test_split(X_modified, y, 0.2)\n",
    "\n",
    "# Set parameters, just like in Q1:\n",
    "# lr = learning rate\n",
    "# iterations = number of iterations\n",
    "# cost = mean squared error at each iteration (used to plot)\n",
    "# weights = array of logistic regression weights (but now with a y-intercept weight)\n",
    "lr = 0.2\n",
    "iterations = 100\n",
    "costs = []\n",
    "weights = np.zeros(X_train.shape[1])\n",
    "\n",
    "# Perform your logistic regression.\n",
    "for i in range(iterations):\n",
    "    pred = logistic_regression(X_train, weights)\n",
    "    \n",
    "    cost = cost_function(y_train, pred)\n",
    "    costs.append(cost)\n",
    "    \n",
    "    grad = gradient(X_train, y_train, pred)\n",
    "    \n",
    "    weights -= lr * grad\n",
    "    \n",
    "    print(f\"Iteration {i+1:3}: Cost: {cost:5.4f}\")\n",
    "    "
   ]
  },
  {
   "cell_type": "code",
   "execution_count": 11,
   "metadata": {},
   "outputs": [
    {
     "data": {
      "text/plain": [
       "Age          0.597788\n",
       "Sex          0.619127\n",
       "Chol         0.249926\n",
       "intercept   -0.161794\n",
       "dtype: float64"
      ]
     },
     "execution_count": 11,
     "metadata": {},
     "output_type": "execute_result"
    }
   ],
   "source": [
    "weights"
   ]
  },
  {
   "cell_type": "code",
   "execution_count": 12,
   "metadata": {
    "tags": []
   },
   "outputs": [
    {
     "data": {
      "text/plain": [
       "Text(0, 0.5, 'Cost')"
      ]
     },
     "execution_count": 12,
     "metadata": {},
     "output_type": "execute_result"
    },
    {
     "data": {
      "image/png": "[encoded data removed]",
      "text/plain": [
       "<Figure size 432x288 with 1 Axes>"
      ]
     },
     "metadata": {
      "needs_background": "light"
     },
     "output_type": "display_data"
    }
   ],
   "source": [
    "# Visualize your costs.\n",
    "plt.plot(costs)\n",
    "plt.title(\"Gradient Descent (with intercept)\")\n",
    "plt.xlabel(\"Iteration\")\n",
    "plt.ylabel(\"Cost\")"
   ]
  },
  {
   "cell_type": "code",
   "execution_count": 13,
   "metadata": {
    "tags": []
   },
   "outputs": [
    {
     "name": "stdout",
     "output_type": "stream",
     "text": [
      "Testing set:\n",
      "    Cost     : 7.485052006578775\n",
      "    Accuracy : 70.49180327868852 %\n",
      "    Precision: 66.66666666666666 %\n",
      "    Recall   : 71.42857142857143 %\n",
      "    F1 score : 0.689655172413793\n"
     ]
    }
   ],
   "source": [
    "# Print out metrics.\n",
    "pred = logistic_regression(X_test, weights)\n",
    "cost = cost_function(y_test, pred) * len(y_test) # Multiply by length to undo the \"mean\" in mean-squared error.\n",
    "acc = accuracy(y_test, pred)\n",
    "pr = precision(y_test, pred)\n",
    "rc = recall(y_test, pred)\n",
    "f1 = f1_score(y_test, pred)\n",
    "\n",
    "print('Testing set:')\n",
    "print('    Cost     :', cost)\n",
    "print('    Accuracy :', acc*100, '%')\n",
    "print('    Precision:', pr*100, '%')\n",
    "print('    Recall   :', rc*100, '%')\n",
    "print('    F1 score :', f1)"
   ]
  },
  {
   "cell_type": "markdown",
   "metadata": {},
   "source": [
    "<!-- END QUESTION -->\n",
    "\n",
    "# Q4\n",
    "Implement the bold driver into your gradient descent implementation, which lets us have a dynamic learning rate. Visualize the costs and print the accuracy/etc. metrics as before. Do not use a y-intercept this time.\n",
    "\n",
    "* Add a stop condition that stop the GD when the cost is not changing more than 0.001 between iterations.\n",
    "* Describe the results. Did you stop earlier than 100 iterations? \n",
    "\n",
    "(**4 points** - 2 for code, 1 for cost visualizaiton, 1 for description.)\n",
    "\n",
    "With random_state = 123:\n",
    "- Cost     : 7.753016617491301\n",
    "- Accuracy : 67.21311475409836 %\n",
    "- Precision: 60.526315789473685 %\n",
    "- Recall   : 82.14285714285714 %\n",
    "- F1 score : 0.6969696969696969\n",
    "\n",
    "Compared to the other GDs:\n",
    "- Metrics are roughly the same as the constant rate gradient descent without intercept.\n",
    "- Higher recall and lower accuracy and precision compared to the intercept model.\n",
    "- The gradient descent stopped early, giving us similiar results to the constant rate GD (w/o intercept) with quicker convergence.\n",
    "  - With random_state = 123, GD stopped at iteration 26\n",
    "  - Ending learning rate was $ \\eta = 0.373 $\n"
   ]
  },
  {
   "cell_type": "markdown",
   "metadata": {},
   "source": [
    "<!-- BEGIN QUESTION -->\n",
    "\n"
   ]
  },
  {
   "cell_type": "code",
   "execution_count": 14,
   "metadata": {
    "tags": []
   },
   "outputs": [
    {
     "name": "stdout",
     "output_type": "stream",
     "text": [
      "Iteration   1: Cost: 0.5509\n",
      "Iteration   2: Cost: 0.5481\n",
      "Iteration   3: Cost: 0.5454\n",
      "Iteration   4: Cost: 0.5427\n",
      "Iteration   5: Cost: 0.5400\n",
      "Iteration   6: Cost: 0.5373\n",
      "Iteration   7: Cost: 0.5347\n",
      "Iteration   8: Cost: 0.5321\n",
      "Iteration   9: Cost: 0.5295\n",
      "Iteration  10: Cost: 0.5270\n",
      "Iteration  11: Cost: 0.5246\n",
      "Iteration  12: Cost: 0.5223\n",
      "Iteration  13: Cost: 0.5200\n",
      "Iteration  14: Cost: 0.5178\n",
      "Iteration  15: Cost: 0.5157\n",
      "Iteration  16: Cost: 0.5136\n",
      "Iteration  17: Cost: 0.5117\n",
      "Iteration  18: Cost: 0.5098\n",
      "Iteration  19: Cost: 0.5081\n",
      "Iteration  20: Cost: 0.5064\n",
      "Iteration  21: Cost: 0.5049\n",
      "Iteration  22: Cost: 0.5034\n",
      "Iteration  23: Cost: 0.5020\n",
      "Iteration  24: Cost: 0.5008\n",
      "Iteration  25: Cost: 0.4996\n",
      "Iteration  26: Cost: 0.4985\n",
      "Iteration  27: Cost: 0.4975\n",
      "Stopped iteration 26\n"
     ]
    }
   ],
   "source": [
    "# Split dataset\n",
    "X_train, X_test, y_train, y_test = train_test_split(X, y, 0.2)\n",
    "\n",
    "# Set parameters:\n",
    "# lr = learning rate (*Update this variable when implementing your bold driver.*)\n",
    "# iterations = number of iterations\n",
    "# cost = mean squared error at each iteration (used to plot)\n",
    "# weights = array of logistic regression weights (*no* y-intercept)\n",
    "lr = 0.1\n",
    "iterations = 100\n",
    "costs = []\n",
    "weights = np.zeros(X_train.shape[1])\n",
    "\n",
    "pred = logistic_regression(X_train, weights)\n",
    "oldcost = cost_function(y_train, pred)\n",
    "grad = gradient(X_train, y_train, pred)\n",
    "\n",
    "# Perform your logistic regression.\n",
    "for i in range(iterations):\n",
    "    weights1 = weights - lr * grad\n",
    "    \n",
    "    pred = logistic_regression(X_train, weights1)\n",
    "    cost = cost_function(y_train, pred)\n",
    "    grad1 = gradient(X_train, y_train, pred)\n",
    "    \n",
    "    if cost >= oldcost:\n",
    "        lr /= 2\n",
    "    else:\n",
    "        lr *= 1.05\n",
    "        weights = weights1\n",
    "        grad = grad1\n",
    "        \n",
    "    costs.append(cost)\n",
    "\n",
    "    print(f\"Iteration {i+1:3}: Cost: {cost:5.4f}\")\n",
    "\n",
    "    if abs(cost - oldcost) <= 0.001:\n",
    "        print(f\"Stopped iteration {i}\")\n",
    "        break\n",
    "\n",
    "    oldcost = cost\n"
   ]
  },
  {
   "cell_type": "code",
   "execution_count": 15,
   "metadata": {},
   "outputs": [
    {
     "data": {
      "text/plain": [
       "Age     0.399578\n",
       "Sex     0.402019\n",
       "Chol    0.171099\n",
       "dtype: float64"
      ]
     },
     "execution_count": 15,
     "metadata": {},
     "output_type": "execute_result"
    }
   ],
   "source": [
    "weights"
   ]
  },
  {
   "cell_type": "code",
   "execution_count": 16,
   "metadata": {},
   "outputs": [
    {
     "data": {
      "text/plain": [
       "0.37334563223415773"
      ]
     },
     "execution_count": 16,
     "metadata": {},
     "output_type": "execute_result"
    }
   ],
   "source": [
    "lr"
   ]
  },
  {
   "cell_type": "code",
   "execution_count": 17,
   "metadata": {
    "tags": []
   },
   "outputs": [
    {
     "data": {
      "text/plain": [
       "Text(0, 0.5, 'Cost')"
      ]
     },
     "execution_count": 17,
     "metadata": {},
     "output_type": "execute_result"
    },
    {
     "data": {
      "image/png": "[encoded data removed]",
      "text/plain": [
       "<Figure size 432x288 with 1 Axes>"
      ]
     },
     "metadata": {
      "needs_background": "light"
     },
     "output_type": "display_data"
    }
   ],
   "source": [
    "# Visualize your costs.\n",
    "plt.plot(costs)\n",
    "plt.title(\"Gradient Descent + Bold Driver\")\n",
    "plt.xlabel(\"Iteration\")\n",
    "plt.ylabel(\"Cost\")"
   ]
  },
  {
   "cell_type": "code",
   "execution_count": 18,
   "metadata": {
    "tags": []
   },
   "outputs": [
    {
     "name": "stdout",
     "output_type": "stream",
     "text": [
      "Testing set:\n",
      "    Cost     : 7.753016617491301\n",
      "    Accuracy : 67.21311475409836 %\n",
      "    Precision: 60.526315789473685 %\n",
      "    Recall   : 82.14285714285714 %\n",
      "    F1 score : 0.6969696969696969\n"
     ]
    }
   ],
   "source": [
    "# Print out metrics.\n",
    "pred = logistic_regression(X_test, weights)\n",
    "cost = cost_function(y_test, pred) * len(y_test) # Multiply by length to undo the \"mean\" in mean-squared error.\n",
    "acc = accuracy(y_test, pred)\n",
    "pr = precision(y_test, pred)\n",
    "rc = recall(y_test, pred)\n",
    "f1 = f1_score(y_test, pred)\n",
    "\n",
    "print('Testing set:')\n",
    "print('    Cost     :', cost)\n",
    "print('    Accuracy :', acc*100, '%')\n",
    "print('    Precision:', pr*100, '%')\n",
    "print('    Recall   :', rc*100, '%')\n",
    "print('    F1 score :', f1)"
   ]
  },
  {
   "cell_type": "markdown",
   "metadata": {},
   "source": [
    "<!-- END QUESTION -->\n",
    "\n",
    "# Q5\n",
    "\n",
    "Implement the L2 norm regularization.\n",
    "\n",
    "Modify your Cost and gradient to implement the l2 norm regularization. \n",
    "Repeat the steps taken in prior tasks and describe your result. \n",
    "\n",
    "* Use a y-intercept.\n",
    "* Do a maximum of 100 iterations as before and report your accuracy, precision, recall and F1 score. \n",
    "* **Optional**: You can stop earlier, if the cost is not changing more than 0.001 between iterations.\n",
    "* **Optional**: You can use the bold driver, if you want. But a bold driver is not required to perform L2 norm regularizaiton.\n",
    "\n",
    "(**4 points** - 2 for code, 1 for cost visualizaiton, 1 for description.)\n",
    "\n",
    "With random_state = 123:\n",
    "- Cost     : 8.233473874591176\n",
    "- Accuracy : 68.85245901639344 %\n",
    "- Precision: 64.51612903225806 %\n",
    "- Recall   : 71.42857142857143 %\n",
    "- F1 score : 0.6779661016949152\n",
    "\n",
    "Compared to the other GDs:\n",
    "- Metrics seem between the normal GD models with no intercept and with an intercept.\n",
    "- Weights are much lower in general, making a simplier model at the cost of metrics to prevent overfitting.\n"
   ]
  },
  {
   "cell_type": "markdown",
   "metadata": {},
   "source": [
    "<!-- BEGIN QUESTION -->\n",
    "\n"
   ]
  },
  {
   "cell_type": "code",
   "execution_count": 19,
   "metadata": {
    "tags": []
   },
   "outputs": [],
   "source": [
    "# Determine the ridge regression gradient.\n",
    "def gradient_ridge(lamb, weights):\n",
    "    \"\"\"Compute the gradient of the ridge, which we will include in our weight\n",
    "    update in addition to the weighted gradient of each coefficient.\"\"\"\n",
    "    grad_ridge = lamb/2 * weights.T.dot(weights)\n",
    "    return grad_ridge"
   ]
  },
  {
   "cell_type": "code",
   "execution_count": 20,
   "metadata": {
    "scrolled": true,
    "tags": []
   },
   "outputs": [
    {
     "name": "stdout",
     "output_type": "stream",
     "text": [
      "Iteration   1: Cost: 0.5536\n",
      "Iteration   2: Cost: 0.5509\n",
      "Iteration   3: Cost: 0.5489\n",
      "Iteration   4: Cost: 0.5474\n",
      "Iteration   5: Cost: 0.5464\n",
      "Iteration   6: Cost: 0.5456\n",
      "Iteration   7: Cost: 0.5450\n",
      "Iteration   8: Cost: 0.5446\n",
      "Iteration   9: Cost: 0.5443\n",
      "Iteration  10: Cost: 0.5441\n",
      "Iteration  11: Cost: 0.5440\n",
      "Iteration  12: Cost: 0.5439\n",
      "Iteration  13: Cost: 0.5439\n",
      "Iteration  14: Cost: 0.5439\n",
      "Iteration  15: Cost: 0.5439\n",
      "Iteration  16: Cost: 0.5439\n",
      "Iteration  17: Cost: 0.5439\n",
      "Iteration  18: Cost: 0.5439\n",
      "Iteration  19: Cost: 0.5440\n",
      "Iteration  20: Cost: 0.5440\n",
      "Iteration  21: Cost: 0.5440\n",
      "Iteration  22: Cost: 0.5440\n",
      "Iteration  23: Cost: 0.5441\n",
      "Iteration  24: Cost: 0.5441\n",
      "Iteration  25: Cost: 0.5441\n",
      "Iteration  26: Cost: 0.5441\n",
      "Iteration  27: Cost: 0.5441\n",
      "Iteration  28: Cost: 0.5442\n",
      "Iteration  29: Cost: 0.5442\n",
      "Iteration  30: Cost: 0.5442\n",
      "Iteration  31: Cost: 0.5442\n",
      "Iteration  32: Cost: 0.5442\n",
      "Iteration  33: Cost: 0.5442\n",
      "Iteration  34: Cost: 0.5442\n",
      "Iteration  35: Cost: 0.5442\n",
      "Iteration  36: Cost: 0.5442\n",
      "Iteration  37: Cost: 0.5442\n",
      "Iteration  38: Cost: 0.5442\n",
      "Iteration  39: Cost: 0.5442\n",
      "Iteration  40: Cost: 0.5443\n",
      "Iteration  41: Cost: 0.5443\n",
      "Iteration  42: Cost: 0.5443\n",
      "Iteration  43: Cost: 0.5443\n",
      "Iteration  44: Cost: 0.5443\n",
      "Iteration  45: Cost: 0.5443\n",
      "Iteration  46: Cost: 0.5443\n",
      "Iteration  47: Cost: 0.5443\n",
      "Iteration  48: Cost: 0.5443\n",
      "Iteration  49: Cost: 0.5443\n",
      "Iteration  50: Cost: 0.5443\n",
      "Iteration  51: Cost: 0.5443\n",
      "Iteration  52: Cost: 0.5443\n",
      "Iteration  53: Cost: 0.5443\n",
      "Iteration  54: Cost: 0.5443\n",
      "Iteration  55: Cost: 0.5443\n",
      "Iteration  56: Cost: 0.5443\n",
      "Iteration  57: Cost: 0.5443\n",
      "Iteration  58: Cost: 0.5443\n",
      "Iteration  59: Cost: 0.5443\n",
      "Iteration  60: Cost: 0.5443\n",
      "Iteration  61: Cost: 0.5443\n",
      "Iteration  62: Cost: 0.5443\n",
      "Iteration  63: Cost: 0.5443\n",
      "Iteration  64: Cost: 0.5443\n",
      "Iteration  65: Cost: 0.5443\n",
      "Iteration  66: Cost: 0.5443\n",
      "Iteration  67: Cost: 0.5443\n",
      "Iteration  68: Cost: 0.5443\n",
      "Iteration  69: Cost: 0.5443\n",
      "Iteration  70: Cost: 0.5443\n",
      "Iteration  71: Cost: 0.5443\n",
      "Iteration  72: Cost: 0.5443\n",
      "Iteration  73: Cost: 0.5443\n",
      "Iteration  74: Cost: 0.5443\n",
      "Iteration  75: Cost: 0.5443\n",
      "Iteration  76: Cost: 0.5443\n",
      "Iteration  77: Cost: 0.5443\n",
      "Iteration  78: Cost: 0.5443\n",
      "Iteration  79: Cost: 0.5443\n",
      "Iteration  80: Cost: 0.5443\n",
      "Iteration  81: Cost: 0.5443\n",
      "Iteration  82: Cost: 0.5443\n",
      "Iteration  83: Cost: 0.5443\n",
      "Iteration  84: Cost: 0.5443\n",
      "Iteration  85: Cost: 0.5443\n",
      "Iteration  86: Cost: 0.5443\n",
      "Iteration  87: Cost: 0.5443\n",
      "Iteration  88: Cost: 0.5443\n",
      "Iteration  89: Cost: 0.5443\n",
      "Iteration  90: Cost: 0.5443\n",
      "Iteration  91: Cost: 0.5443\n",
      "Iteration  92: Cost: 0.5443\n",
      "Iteration  93: Cost: 0.5443\n",
      "Iteration  94: Cost: 0.5443\n",
      "Iteration  95: Cost: 0.5443\n",
      "Iteration  96: Cost: 0.5443\n",
      "Iteration  97: Cost: 0.5443\n",
      "Iteration  98: Cost: 0.5443\n",
      "Iteration  99: Cost: 0.5443\n",
      "Iteration 100: Cost: 0.5443\n"
     ]
    }
   ],
   "source": [
    "# Modify your dataset so that it supports a constant y-intercept term\n",
    "# (Hint: what column would we want to add to our dataset matrix, so that when \n",
    "#        multiplied by the y-intercept, we get the same value every time?)\n",
    "ones = pd.Series(np.ones((len(X)))).rename(\"intercept\")\n",
    "X_modified = pd.concat([X, ones], axis=1)\n",
    "\n",
    "# Split dataset (with intercept)\n",
    "X_train, X_test, y_train, y_test = train_test_split(X_modified, y, 0.2)\n",
    "\n",
    "# Set parameters, just like in Q1:\n",
    "# lr = learning rate\n",
    "# lamb = lambda weight for L2 regularization (*new*)\n",
    "# iterations = number of iterations\n",
    "# cost = mean squared error at each iteration (used to plot)\n",
    "# weights = array of logistic regression weights (but now with a y-intercept weight)\n",
    "lr = 0.1\n",
    "lamb = 1 # Lambda weight for L2 regularization.\n",
    "iterations = 100\n",
    "costs = []\n",
    "weights = np.zeros(X_train.shape[1])\n",
    "\n",
    "# Perform your logistic regression, with L2 norm regularizaiton.\n",
    "for i in range(iterations):\n",
    "    pred = logistic_regression(X_train, weights)\n",
    "    \n",
    "    cost = cost_function(y_train, pred) + gradient_ridge(lamb, weights)\n",
    "    costs.append(cost)\n",
    "    \n",
    "    grad = gradient(X_train, y_train, pred) + lamb * weights\n",
    "    \n",
    "    weights -= lr * grad\n",
    "    \n",
    "    print(f\"Iteration {i+1:3}: Cost: {cost:5.4f}\")\n"
   ]
  },
  {
   "cell_type": "code",
   "execution_count": 21,
   "metadata": {},
   "outputs": [
    {
     "data": {
      "text/plain": [
       "Age          0.102561\n",
       "Sex          0.099977\n",
       "Chol         0.045581\n",
       "intercept   -0.031610\n",
       "dtype: float64"
      ]
     },
     "execution_count": 21,
     "metadata": {},
     "output_type": "execute_result"
    }
   ],
   "source": [
    "weights"
   ]
  },
  {
   "cell_type": "code",
   "execution_count": 22,
   "metadata": {
    "tags": []
   },
   "outputs": [
    {
     "data": {
      "text/plain": [
       "Text(0, 0.5, 'Cost')"
      ]
     },
     "execution_count": 22,
     "metadata": {},
     "output_type": "execute_result"
    },
    {
     "data": {
      "image/png": "[encoded data removed]",
      "text/plain": [
       "<Figure size 432x288 with 1 Axes>"
      ]
     },
     "metadata": {
      "needs_background": "light"
     },
     "output_type": "display_data"
    }
   ],
   "source": [
    "# Visualize your costs.\n",
    "plt.plot(costs)\n",
    "plt.title(\"Gradient Descent (with intercept) + L2 Regularization\")\n",
    "plt.xlabel(\"Iteration\")\n",
    "plt.ylabel(\"Cost\")"
   ]
  },
  {
   "cell_type": "code",
   "execution_count": 23,
   "metadata": {
    "tags": []
   },
   "outputs": [
    {
     "name": "stdout",
     "output_type": "stream",
     "text": [
      "Testing set:\n",
      "    Cost     : 8.233473874591176\n",
      "    Accuracy : 68.85245901639344 %\n",
      "    Precision: 64.51612903225806 %\n",
      "    Recall   : 71.42857142857143 %\n",
      "    F1 score : 0.6779661016949152\n"
     ]
    }
   ],
   "source": [
    "# Print out metrics.\n",
    "pred = logistic_regression(X_test, weights)\n",
    "cost = cost_function(y_test, pred) * len(y_test) # Multiply by length to undo the \"mean\" in mean-squared error.\n",
    "acc = accuracy(y_test, pred)\n",
    "pr = precision(y_test, pred)\n",
    "rc = recall(y_test, pred)\n",
    "f1 = f1_score(y_test, pred)\n",
    "\n",
    "print('Testing set:')\n",
    "print('    Cost     :', cost)\n",
    "print('    Accuracy :', acc*100, '%')\n",
    "print('    Precision:', pr*100, '%')\n",
    "print('    Recall   :', rc*100, '%')\n",
    "print('    F1 score :', f1)"
   ]
  },
  {
   "cell_type": "markdown",
   "metadata": {},
   "source": [
    "<!-- END QUESTION -->\n",
    "\n"
   ]
  }
 ],
 "metadata": {
  "kernelspec": {
   "display_name": "Python 3 (ipykernel)",
   "language": "python",
   "name": "python3"
  },
  "language_info": {
   "codemirror_mode": {
    "name": "ipython",
    "version": 3
   },
   "file_extension": ".py",
   "mimetype": "text/x-python",
   "name": "python",
   "nbconvert_exporter": "python",
   "pygments_lexer": "ipython3",
   "version": "3.9.7"
  },
  "otter": {
   "OK_FORMAT": true,
   "assignment_name": "329e_HW06",
   "tests": {
    "q1_computations": {
     "name": "q1_computations",
     "points": 3,
     "suites": [
      {
       "cases": [],
       "scored": true,
       "setup": "",
       "teardown": "",
       "type": "doctest"
      }
     ]
    },
    "q2": {
     "name": "q2",
     "points": 4,
     "suites": [
      {
       "cases": [],
       "scored": true,
       "setup": "",
       "teardown": "",
       "type": "doctest"
      }
     ]
    },
    "q3_computations": {
     "name": "q3_computations",
     "points": 2,
     "suites": [
      {
       "cases": [],
       "scored": true,
       "setup": "",
       "teardown": "",
       "type": "doctest"
      }
     ]
    },
    "q4_computations": {
     "name": "q4_computations",
     "points": 2,
     "suites": [
      {
       "cases": [],
       "scored": true,
       "setup": "",
       "teardown": "",
       "type": "doctest"
      }
     ]
    },
    "q5_computations": {
     "name": "q5_computations",
     "points": 2,
     "suites": [
      {
       "cases": [],
       "scored": true,
       "setup": "",
       "teardown": "",
       "type": "doctest"
      }
     ]
    }
   }
  },
  "vscode": {
   "interpreter": {
    "hash": "bb1ffd02cbd3ddfb2a1e3909b97a8b1d7ede939a054d96ebaf6f1044b5b354c8"
   }
  }
 },
 "nbformat": 4,
 "nbformat_minor": 4
}
