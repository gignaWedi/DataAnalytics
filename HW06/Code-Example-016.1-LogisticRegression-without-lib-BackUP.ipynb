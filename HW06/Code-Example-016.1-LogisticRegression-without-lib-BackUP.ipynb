{
 "cells": [
  {
   "cell_type": "markdown",
   "metadata": {},
   "source": [
    "# Logistic Regression implementation without Scikit-learn\n"
   ]
  },
  {
   "cell_type": "code",
   "execution_count": 3,
   "metadata": {},
   "outputs": [],
   "source": [
    "import numpy as np\n",
    "import pandas as pd\n",
    "\n",
    "from scipy.stats import norm\n",
    "from sklearn.datasets import make_blobs\n",
    "\n",
    "from matplotlib import pyplot\n",
    "import matplotlib.pyplot as plt\n",
    "\n",
    "import matplotlib.cm as cm\n",
    "from random import sample"
   ]
  },
  {
   "cell_type": "markdown",
   "metadata": {},
   "source": [
    "## Generating Some Example Data with 2 Features"
   ]
  },
  {
   "cell_type": "code",
   "execution_count": 4,
   "metadata": {},
   "outputs": [
    {
     "data": {
      "text/html": [
       "<div>\n",
       "<style scoped>\n",
       "    .dataframe tbody tr th:only-of-type {\n",
       "        vertical-align: middle;\n",
       "    }\n",
       "\n",
       "    .dataframe tbody tr th {\n",
       "        vertical-align: top;\n",
       "    }\n",
       "\n",
       "    .dataframe thead th {\n",
       "        text-align: right;\n",
       "    }\n",
       "</style>\n",
       "<table border=\"1\" class=\"dataframe\">\n",
       "  <thead>\n",
       "    <tr style=\"text-align: right;\">\n",
       "      <th></th>\n",
       "      <th>Age</th>\n",
       "      <th>Sex</th>\n",
       "      <th>ChestPain</th>\n",
       "      <th>RestBP</th>\n",
       "      <th>Chol</th>\n",
       "      <th>Fbs</th>\n",
       "      <th>RestECG</th>\n",
       "      <th>MaxHR</th>\n",
       "      <th>ExAng</th>\n",
       "      <th>Oldpeak</th>\n",
       "      <th>Slope</th>\n",
       "      <th>Ca</th>\n",
       "      <th>Thal</th>\n",
       "      <th>Target</th>\n",
       "    </tr>\n",
       "  </thead>\n",
       "  <tbody>\n",
       "    <tr>\n",
       "      <th>0</th>\n",
       "      <td>63</td>\n",
       "      <td>1</td>\n",
       "      <td>typical</td>\n",
       "      <td>145</td>\n",
       "      <td>233</td>\n",
       "      <td>1</td>\n",
       "      <td>2</td>\n",
       "      <td>150</td>\n",
       "      <td>0</td>\n",
       "      <td>2.3</td>\n",
       "      <td>3</td>\n",
       "      <td>0.0</td>\n",
       "      <td>fixed</td>\n",
       "      <td>No</td>\n",
       "    </tr>\n",
       "    <tr>\n",
       "      <th>1</th>\n",
       "      <td>67</td>\n",
       "      <td>1</td>\n",
       "      <td>asymptomatic</td>\n",
       "      <td>160</td>\n",
       "      <td>286</td>\n",
       "      <td>0</td>\n",
       "      <td>2</td>\n",
       "      <td>108</td>\n",
       "      <td>1</td>\n",
       "      <td>1.5</td>\n",
       "      <td>2</td>\n",
       "      <td>3.0</td>\n",
       "      <td>normal</td>\n",
       "      <td>Yes</td>\n",
       "    </tr>\n",
       "    <tr>\n",
       "      <th>2</th>\n",
       "      <td>67</td>\n",
       "      <td>1</td>\n",
       "      <td>asymptomatic</td>\n",
       "      <td>120</td>\n",
       "      <td>229</td>\n",
       "      <td>0</td>\n",
       "      <td>2</td>\n",
       "      <td>129</td>\n",
       "      <td>1</td>\n",
       "      <td>2.6</td>\n",
       "      <td>2</td>\n",
       "      <td>2.0</td>\n",
       "      <td>reversable</td>\n",
       "      <td>Yes</td>\n",
       "    </tr>\n",
       "    <tr>\n",
       "      <th>3</th>\n",
       "      <td>37</td>\n",
       "      <td>1</td>\n",
       "      <td>nonanginal</td>\n",
       "      <td>130</td>\n",
       "      <td>250</td>\n",
       "      <td>0</td>\n",
       "      <td>0</td>\n",
       "      <td>187</td>\n",
       "      <td>0</td>\n",
       "      <td>3.5</td>\n",
       "      <td>3</td>\n",
       "      <td>0.0</td>\n",
       "      <td>normal</td>\n",
       "      <td>No</td>\n",
       "    </tr>\n",
       "    <tr>\n",
       "      <th>4</th>\n",
       "      <td>41</td>\n",
       "      <td>0</td>\n",
       "      <td>nontypical</td>\n",
       "      <td>130</td>\n",
       "      <td>204</td>\n",
       "      <td>0</td>\n",
       "      <td>2</td>\n",
       "      <td>172</td>\n",
       "      <td>0</td>\n",
       "      <td>1.4</td>\n",
       "      <td>1</td>\n",
       "      <td>0.0</td>\n",
       "      <td>normal</td>\n",
       "      <td>No</td>\n",
       "    </tr>\n",
       "    <tr>\n",
       "      <th>...</th>\n",
       "      <td>...</td>\n",
       "      <td>...</td>\n",
       "      <td>...</td>\n",
       "      <td>...</td>\n",
       "      <td>...</td>\n",
       "      <td>...</td>\n",
       "      <td>...</td>\n",
       "      <td>...</td>\n",
       "      <td>...</td>\n",
       "      <td>...</td>\n",
       "      <td>...</td>\n",
       "      <td>...</td>\n",
       "      <td>...</td>\n",
       "      <td>...</td>\n",
       "    </tr>\n",
       "    <tr>\n",
       "      <th>298</th>\n",
       "      <td>45</td>\n",
       "      <td>1</td>\n",
       "      <td>typical</td>\n",
       "      <td>110</td>\n",
       "      <td>264</td>\n",
       "      <td>0</td>\n",
       "      <td>0</td>\n",
       "      <td>132</td>\n",
       "      <td>0</td>\n",
       "      <td>1.2</td>\n",
       "      <td>2</td>\n",
       "      <td>0.0</td>\n",
       "      <td>reversable</td>\n",
       "      <td>Yes</td>\n",
       "    </tr>\n",
       "    <tr>\n",
       "      <th>299</th>\n",
       "      <td>68</td>\n",
       "      <td>1</td>\n",
       "      <td>asymptomatic</td>\n",
       "      <td>144</td>\n",
       "      <td>193</td>\n",
       "      <td>1</td>\n",
       "      <td>0</td>\n",
       "      <td>141</td>\n",
       "      <td>0</td>\n",
       "      <td>3.4</td>\n",
       "      <td>2</td>\n",
       "      <td>2.0</td>\n",
       "      <td>reversable</td>\n",
       "      <td>Yes</td>\n",
       "    </tr>\n",
       "    <tr>\n",
       "      <th>300</th>\n",
       "      <td>57</td>\n",
       "      <td>1</td>\n",
       "      <td>asymptomatic</td>\n",
       "      <td>130</td>\n",
       "      <td>131</td>\n",
       "      <td>0</td>\n",
       "      <td>0</td>\n",
       "      <td>115</td>\n",
       "      <td>1</td>\n",
       "      <td>1.2</td>\n",
       "      <td>2</td>\n",
       "      <td>1.0</td>\n",
       "      <td>reversable</td>\n",
       "      <td>Yes</td>\n",
       "    </tr>\n",
       "    <tr>\n",
       "      <th>301</th>\n",
       "      <td>57</td>\n",
       "      <td>0</td>\n",
       "      <td>nontypical</td>\n",
       "      <td>130</td>\n",
       "      <td>236</td>\n",
       "      <td>0</td>\n",
       "      <td>2</td>\n",
       "      <td>174</td>\n",
       "      <td>0</td>\n",
       "      <td>0.0</td>\n",
       "      <td>2</td>\n",
       "      <td>1.0</td>\n",
       "      <td>normal</td>\n",
       "      <td>Yes</td>\n",
       "    </tr>\n",
       "    <tr>\n",
       "      <th>302</th>\n",
       "      <td>38</td>\n",
       "      <td>1</td>\n",
       "      <td>nonanginal</td>\n",
       "      <td>138</td>\n",
       "      <td>175</td>\n",
       "      <td>0</td>\n",
       "      <td>0</td>\n",
       "      <td>173</td>\n",
       "      <td>0</td>\n",
       "      <td>0.0</td>\n",
       "      <td>1</td>\n",
       "      <td>NaN</td>\n",
       "      <td>normal</td>\n",
       "      <td>No</td>\n",
       "    </tr>\n",
       "  </tbody>\n",
       "</table>\n",
       "<p>303 rows × 14 columns</p>\n",
       "</div>"
      ],
      "text/plain": [
       "     Age  Sex     ChestPain  RestBP  Chol  Fbs  RestECG  MaxHR  ExAng  \\\n",
       "0     63    1       typical     145   233    1        2    150      0   \n",
       "1     67    1  asymptomatic     160   286    0        2    108      1   \n",
       "2     67    1  asymptomatic     120   229    0        2    129      1   \n",
       "3     37    1    nonanginal     130   250    0        0    187      0   \n",
       "4     41    0    nontypical     130   204    0        2    172      0   \n",
       "..   ...  ...           ...     ...   ...  ...      ...    ...    ...   \n",
       "298   45    1       typical     110   264    0        0    132      0   \n",
       "299   68    1  asymptomatic     144   193    1        0    141      0   \n",
       "300   57    1  asymptomatic     130   131    0        0    115      1   \n",
       "301   57    0    nontypical     130   236    0        2    174      0   \n",
       "302   38    1    nonanginal     138   175    0        0    173      0   \n",
       "\n",
       "     Oldpeak  Slope   Ca        Thal Target  \n",
       "0        2.3      3  0.0       fixed     No  \n",
       "1        1.5      2  3.0      normal    Yes  \n",
       "2        2.6      2  2.0  reversable    Yes  \n",
       "3        3.5      3  0.0      normal     No  \n",
       "4        1.4      1  0.0      normal     No  \n",
       "..       ...    ...  ...         ...    ...  \n",
       "298      1.2      2  0.0  reversable    Yes  \n",
       "299      3.4      2  2.0  reversable    Yes  \n",
       "300      1.2      2  1.0  reversable    Yes  \n",
       "301      0.0      2  1.0      normal    Yes  \n",
       "302      0.0      1  NaN      normal     No  \n",
       "\n",
       "[303 rows x 14 columns]"
      ]
     },
     "execution_count": 4,
     "metadata": {},
     "output_type": "execute_result"
    }
   ],
   "source": [
    "heart_df = pd.read_csv(\"Heart.csv\")\n",
    "heart_df"
   ]
  },
  {
   "cell_type": "code",
   "execution_count": 8,
   "metadata": {},
   "outputs": [],
   "source": [
    "X = heart_df[[\"Age\", \"Sex\", \"Chol\"]].values\n",
    "y = heart_df[\"Target\"].map({'Yes':1, 'No':0}).values"
   ]
  },
  {
   "cell_type": "code",
   "execution_count": 9,
   "metadata": {},
   "outputs": [],
   "source": [
    "n_feature = 3 # the number of features\n",
    "n_components = 2 # the number of clusters\n",
    "\n",
    "n=len(X) # the number of total samples"
   ]
  },
  {
   "cell_type": "code",
   "execution_count": 10,
   "metadata": {},
   "outputs": [
    {
     "name": "stdout",
     "output_type": "stream",
     "text": [
      "x = [ 63   1 233] , y = 0\n",
      "x = [ 67   1 286] , y = 1\n",
      "x = [ 67   1 229] , y = 1\n",
      "x = [ 37   1 250] , y = 0\n",
      "x = [ 41   0 204] , y = 0\n"
     ]
    }
   ],
   "source": [
    "for i in range(5):\n",
    "    print('x =', X[i, ], ', y =', y[i])"
   ]
  },
  {
   "cell_type": "code",
   "execution_count": 11,
   "metadata": {},
   "outputs": [
    {
     "data": {
      "text/plain": [
       "array([0, 1, 1, 0, 0, 0, 1, 0, 1, 1], dtype=int64)"
      ]
     },
     "execution_count": 11,
     "metadata": {},
     "output_type": "execute_result"
    }
   ],
   "source": [
    "# Just to show you what is inside it. We print the first 10 elements of this numpy array. \n",
    "y[:10]"
   ]
  },
  {
   "cell_type": "code",
   "execution_count": 29,
   "metadata": {},
   "outputs": [
    {
     "data": {
      "image/png": "[encoded data removed]",
      "text/plain": [
       "<Figure size 432x288 with 1 Axes>"
      ]
     },
     "metadata": {
      "needs_background": "light"
     },
     "output_type": "display_data"
    }
   ],
   "source": [
    "# scatter plot, data points annotated by different colors\n",
    "df = pd.DataFrame(dict(feature_1=X[:,0], feature_2=X[:,1], label=y))\n",
    "\n",
    "\n",
    "cluster_name = set(y)\n",
    "colors = dict(zip(cluster_name, cm.rainbow(np.linspace(0, 1, len(cluster_name)))))\n",
    "fig, ax = pyplot.subplots()\n",
    "\n",
    "grouped = df.groupby('label')\n",
    "\n",
    "for key, group in grouped:\n",
    "    group.plot(ax=ax, kind='scatter', x='feature_1', y='feature_2', label=key, color=colors[key].reshape(1,-1))\n",
    "    \n",
    "pyplot.title('Original 2D Data from {} Clusters'.format(n_components))\n",
    "pyplot.show()"
   ]
  },
  {
   "cell_type": "code",
   "execution_count": 30,
   "metadata": {},
   "outputs": [],
   "source": [
    "\n",
    "# Create Test/Train\n",
    "from sklearn.model_selection import train_test_split\n",
    "\n",
    "X_train, X_test, y_train, y_test = train_test_split(X, y, test_size=0.2, random_state=123)"
   ]
  },
  {
   "cell_type": "code",
   "execution_count": 31,
   "metadata": {},
   "outputs": [],
   "source": [
    "def sigmoid(z):\n",
    "    \"\"\"\n",
    "    To convert continuous value into a range of 0 to 1\n",
    "\n",
    "    I/P\n",
    "    ----------\n",
    "    z : Continuous value\n",
    "\n",
    "    O/P\n",
    "    -------\n",
    "    Value in range between 0 to 1.\n",
    "    \"\"\"\n",
    "    g = 1 / (1 + np.exp(-z))\n",
    "    return g"
   ]
  },
  {
   "cell_type": "code",
   "execution_count": 32,
   "metadata": {},
   "outputs": [],
   "source": [
    "def cost_function(X, y, weights):\n",
    "    \"\"\"\n",
    "    Compute cost for logistic regression.\n",
    "\n",
    "    I/P\n",
    "    ----------\n",
    "    X : 2D array where each row represent the training example and each column represent the feature ndarray. \n",
    "        Dimension(m x n)\n",
    "        m= number of training examples\n",
    "        n= number of features (including X_0 column of ones)\n",
    "    y : 1D array of labels/target value for each traing example. dimension(1 x m)\n",
    "\n",
    "    weights : 1D array of fitting parameters or weights. Dimension (1 x n)\n",
    "\n",
    "    O/P\n",
    "    -------\n",
    "    cost : The cost of using theta as the parameter for linear regression to fit the data points in X and y.\n",
    "    \"\"\"\n",
    "    m, n = X.shape\n",
    "    x_dot_weights = X.dot(weights)\n",
    "\n",
    "    cost = 1.0 / m * (-y.T.dot(np.log(sigmoid(x_dot_weights))) - (1 - y).T.dot(np.log(1 - sigmoid(x_dot_weights))))\n",
    "\n",
    "    return cost"
   ]
  },
  {
   "cell_type": "code",
   "execution_count": 33,
   "metadata": {},
   "outputs": [],
   "source": [
    "def gradient(X, y, weights):\n",
    "    \"\"\"\n",
    "    Compute gradient for logistic regression.\n",
    "\n",
    "    I/P\n",
    "    ----------\n",
    "    X : 2D array where each row represent the training example and each column represent the feature ndarray. \n",
    "    Dimension(m x n)\n",
    "        m = number of training examples\n",
    "        n = number of features (including X_0 column of ones)\n",
    "    y : 1D array of labels/target value for each traing example. dimension(1 x m)\n",
    "\n",
    "    weights : 1D array of fitting parameters or weights. Dimension (1 x n)\n",
    "\n",
    "    O/P\n",
    "    -------\n",
    "    grad: (numpy array)The gradient of the cost with respect to the parameters theta\n",
    "    \"\"\"\n",
    "    m, n = X.shape\n",
    "    x_dot_weights = X.dot(weights)\n",
    "\n",
    "    grad = (1.0 / m )* (sigmoid(x_dot_weights) - y).T.dot(X)\n",
    "\n",
    "    return grad"
   ]
  },
  {
   "cell_type": "code",
   "execution_count": 34,
   "metadata": {},
   "outputs": [
    {
     "name": "stdout",
     "output_type": "stream",
     "text": [
      "0.6931471805599453\n",
      "[ 1.09090909 -0.02892562  7.17355372]\n"
     ]
    }
   ],
   "source": [
    "weights = np.zeros(n_feature)\n",
    "\n",
    "\n",
    "cost = cost_function(X_train, y_train, weights)\n",
    "grad = gradient(X_train, y_train, weights)\n",
    "\n",
    "print(cost)\n",
    "print(grad)"
   ]
  },
  {
   "cell_type": "code",
   "execution_count": 43,
   "metadata": {},
   "outputs": [
    {
     "name": "stdout",
     "output_type": "stream",
     "text": [
      "Cost is:  0.6913950589278485\n",
      "Cost is:  0.6913786323991394\n",
      "Cost is:  0.6913623381885242\n",
      "Cost is:  0.6913461752155146\n",
      "Cost is:  0.6913301424084182\n",
      "Cost is:  0.6913142387042689\n",
      "Cost is:  0.6912984630487571\n",
      "Cost is:  0.6912828143961601\n",
      "Cost is:  0.6912672917092735\n",
      "Cost is:  0.6912518939593432\n",
      "Cost is:  0.6912366201259976\n",
      "Cost is:  0.6912214691971805\n",
      "Cost is:  0.6912064401690845\n",
      "Cost is:  0.6911915320460844\n",
      "Cost is:  0.6911767438406725\n",
      "Cost is:  0.6911620745733925\n",
      "Cost is:  0.6911475232727755\n",
      "Cost is:  0.691133088975275\n",
      "Cost is:  0.6911187707252049\n",
      "Cost is:  0.6911045675746745\n",
      "Cost is:  0.6910904785835266\n",
      "Cost is:  0.6910765028192755\n",
      "Cost is:  0.691062639357045\n",
      "Cost is:  0.6910488872795072\n",
      "Cost is:  0.6910352456768214\n",
      "Cost is:  0.6910217136465743\n",
      "Cost is:  0.6910082902937198\n",
      "Cost is:  0.6909949747305197\n",
      "Cost is:  0.690981766076485\n",
      "Cost is:  0.6909686634583166\n",
      "Cost is:  0.6909556660098486\n",
      "Cost is:  0.6909427728719891\n",
      "Cost is:  0.6909299831926645\n",
      "Cost is:  0.6909172961267623\n",
      "Cost is:  0.6909047108360745\n",
      "Cost is:  0.6908922264892418\n",
      "Cost is:  0.6908798422616989\n",
      "Cost is:  0.690867557335619\n",
      "Cost is:  0.6908553708998593\n",
      "Cost is:  0.690843282149907\n",
      "Cost is:  0.6908312902878256\n",
      "Cost is:  0.690819394522202\n",
      "Cost is:  0.6908075940680926\n",
      "Cost is:  0.6907958881469722\n",
      "Cost is:  0.6907842759866809\n",
      "Cost is:  0.6907727568213734\n",
      "Cost is:  0.6907613298914669\n",
      "Cost is:  0.6907499944435908\n",
      "Cost is:  0.6907387497305364\n",
      "Cost is:  0.690727595011207\n",
      "Cost is:  0.690716529550567\n",
      "Cost is:  0.6907055526195947\n",
      "Cost is:  0.6906946634952318\n",
      "Cost is:  0.6906838614603358\n",
      "Cost is:  0.6906731458036316\n",
      "Cost is:  0.690662515819664\n",
      "Cost is:  0.6906519708087503\n",
      "Cost is:  0.6906415100769333\n",
      "Cost is:  0.6906311329359346\n",
      "Cost is:  0.6906208387031085\n",
      "Cost is:  0.6906106267013968\n",
      "Cost is:  0.6906004962592822\n",
      "Cost is:  0.6905904467107437\n",
      "Cost is:  0.6905804773952124\n",
      "Cost is:  0.6905705876575262\n",
      "Cost is:  0.6905607768478862\n",
      "Cost is:  0.6905510443218124\n",
      "Cost is:  0.6905413894401022\n",
      "Cost is:  0.6905318115687847\n",
      "Cost is:  0.6905223100790804\n",
      "Cost is:  0.690512884347357\n",
      "Cost is:  0.6905035337550891\n",
      "Cost is:  0.6904942576888154\n",
      "Cost is:  0.6904850555400978\n",
      "Cost is:  0.6904759267054803\n",
      "Cost is:  0.6904668705864483\n",
      "Cost is:  0.6904578865893887\n",
      "Cost is:  0.690448974125549\n",
      "Cost is:  0.6904401326109985\n",
      "Cost is:  0.6904313614665887\n",
      "Cost is:  0.6904226601179135\n",
      "Cost is:  0.6904140279952719\n",
      "Cost is:  0.6904054645336282\n",
      "Cost is:  0.6903969691725742\n",
      "Cost is:  0.6903885413562922\n",
      "Cost is:  0.6903801805335164\n",
      "Cost is:  0.690371886157496\n",
      "Cost is:  0.6903636576859591\n",
      "Cost is:  0.6903554945810747\n",
      "Cost is:  0.6903473963094173\n",
      "Cost is:  0.690339362341931\n",
      "Cost is:  0.6903313921538929\n",
      "Cost is:  0.6903234852248783\n",
      "Cost is:  0.6903156410387254\n",
      "Cost is:  0.6903078590835006\n",
      "Cost is:  0.6903001388514629\n",
      "Cost is:  0.6902924798390316\n",
      "Cost is:  0.6902848815467499\n",
      "Cost is:  0.6902773434792525\n",
      "Cost is:  0.6902698651452325\n"
     ]
    }
   ],
   "source": [
    "# Now we optimize it using Gradient Descent. \n",
    "num_iterations = 100\n",
    "learnin_rate = 0.0001\n",
    "\n",
    "cost_list = []\n",
    "\n",
    "for i in range(0, num_iterations):\n",
    "    \n",
    "    cost = cost_function(X_train, y_train, weights)\n",
    "    print(\"Cost is: \", cost)\n",
    "    cost_list.append(cost)\n",
    "    \n",
    "    grad = gradient(X_train, y_train, weights)\n",
    "    \n",
    "    weights = weights - learnin_rate * grad    "
   ]
  },
  {
   "cell_type": "code",
   "execution_count": 44,
   "metadata": {},
   "outputs": [
    {
     "data": {
      "image/png": "[encoded data removed]",
      "text/plain": [
       "<Figure size 432x288 with 1 Axes>"
      ]
     },
     "metadata": {
      "needs_background": "light"
     },
     "output_type": "display_data"
    }
   ],
   "source": [
    "plt.plot(np.arange(num_iterations), cost_list)\n",
    "plt.show()"
   ]
  },
  {
   "cell_type": "code",
   "execution_count": 45,
   "metadata": {},
   "outputs": [],
   "source": [
    "def predict(weights, X):\n",
    "    \"\"\"\n",
    "    Predict the class between 0 and 1 using learned logistic regression parameters weights.\n",
    "    Using threshold value 0.5 to convert probability value to class value \n",
    "\n",
    "    I/P\n",
    "    ----------\n",
    "    X : 2D array where each row represent the training example and each column represent the feature ndarray. \n",
    "        Dimension(m x n)\n",
    "        m= number of training examples\n",
    "        n= number of features (including X_0 column of ones)\n",
    "\n",
    "    theta : 1D array of fitting parameters or weights. Dimension (1 x n)\n",
    "\n",
    "    O/P\n",
    "    -------\n",
    "    Class type based on threshold\n",
    "    \"\"\"\n",
    "    p = sigmoid(X.dot(weights)) >= 0.5\n",
    "    return p.astype(int)"
   ]
  },
  {
   "cell_type": "code",
   "execution_count": 46,
   "metadata": {},
   "outputs": [
    {
     "data": {
      "text/plain": [
       "array([0, 0, 0, 0, 0, 0, 0, 0, 0, 0, 1, 0, 0, 0, 0, 0, 0, 0, 0, 0, 0, 0,\n",
       "       0, 0, 0, 0, 0, 0, 0, 0, 0, 0, 0, 0, 0, 0, 0, 0, 0, 0, 0, 0, 0, 0,\n",
       "       0, 0, 0, 0, 0, 0, 0, 0, 0, 0, 1, 0, 0, 0, 0, 0, 0])"
      ]
     },
     "execution_count": 46,
     "metadata": {},
     "output_type": "execute_result"
    }
   ],
   "source": [
    "predictions = predict(weights, X_test)\n",
    "predictions"
   ]
  },
  {
   "cell_type": "code",
   "execution_count": 47,
   "metadata": {},
   "outputs": [
    {
     "data": {
      "text/plain": [
       "array([0, 1, 0, 1, 0, 0, 0, 0, 1, 0, 0, 1, 0, 0, 1, 0, 1, 0, 1, 0, 0, 1,\n",
       "       0, 1, 0, 0, 0, 1, 1, 0, 0, 1, 1, 1, 0, 0, 0, 1, 0, 0, 1, 1, 1, 0,\n",
       "       0, 1, 1, 0, 0, 1, 1, 1, 0, 1, 1, 0, 1, 0, 1, 1, 0], dtype=int64)"
      ]
     },
     "execution_count": 47,
     "metadata": {},
     "output_type": "execute_result"
    }
   ],
   "source": [
    "y_test"
   ]
  },
  {
   "cell_type": "code",
   "execution_count": 48,
   "metadata": {},
   "outputs": [
    {
     "name": "stdout",
     "output_type": "stream",
     "text": [
      "Accuracy is:  0.5409836065573771\n"
     ]
    }
   ],
   "source": [
    "# Correct Predictions are the cases that are equal. \n",
    "\n",
    "correct = np.sum(predictions == y_test)\n",
    "\n",
    "\n",
    "print(\"Accuracy is: \", correct/y_test.size)\n"
   ]
  },
  {
   "cell_type": "code",
   "execution_count": 49,
   "metadata": {},
   "outputs": [
    {
     "name": "stdout",
     "output_type": "stream",
     "text": [
      "              precision    recall  f1-score   support\n",
      "\n",
      "           0       0.54      0.97      0.70        33\n",
      "           1       0.50      0.04      0.07        28\n",
      "\n",
      "    accuracy                           0.54        61\n",
      "   macro avg       0.52      0.50      0.38        61\n",
      "weighted avg       0.52      0.54      0.41        61\n",
      "\n"
     ]
    }
   ],
   "source": [
    "from sklearn.metrics import classification_report\n",
    "\n",
    "report = classification_report(y_test,predictions)\n",
    "print(report)"
   ]
  },
  {
   "cell_type": "code",
   "execution_count": null,
   "metadata": {},
   "outputs": [],
   "source": []
  }
 ],
 "metadata": {
  "kernelspec": {
   "display_name": "Python 3 (ipykernel)",
   "language": "python",
   "name": "python3"
  },
  "language_info": {
   "codemirror_mode": {
    "name": "ipython",
    "version": 3
   },
   "file_extension": ".py",
   "mimetype": "text/x-python",
   "name": "python",
   "nbconvert_exporter": "python",
   "pygments_lexer": "ipython3",
   "version": "3.9.7"
  }
 },
 "nbformat": 4,
 "nbformat_minor": 4
}
