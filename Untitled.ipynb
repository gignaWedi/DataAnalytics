{
 "cells": [
  {
   "cell_type": "code",
   "execution_count": 21,
   "id": "89a7be13-a6f2-4114-9280-6ea8101be8c3",
   "metadata": {},
   "outputs": [],
   "source": [
    "import numpy as np"
   ]
  },
  {
   "cell_type": "code",
   "execution_count": 2,
   "id": "8febf563-ed65-4a5d-81dd-f2700168f39e",
   "metadata": {},
   "outputs": [],
   "source": [
    "a  = np.array((30 , 85 , 75 , 41 , 100 , 11))"
   ]
  },
  {
   "cell_type": "code",
   "execution_count": 4,
   "id": "4c76a745-20a0-420a-a0a4-5b95929a1589",
   "metadata": {},
   "outputs": [
    {
     "data": {
      "text/plain": [
       "58.0"
      ]
     },
     "execution_count": 4,
     "metadata": {},
     "output_type": "execute_result"
    }
   ],
   "source": [
    "np.median(a)"
   ]
  },
  {
   "cell_type": "code",
   "execution_count": 2,
   "id": "0428ebe3-f8d2-43da-9ef6-df6c1aa73081",
   "metadata": {},
   "outputs": [],
   "source": [
    "from scipy import stats"
   ]
  },
  {
   "cell_type": "code",
   "execution_count": 29,
   "id": "4f43fd7e-1357-4c0b-9e60-a491fe798092",
   "metadata": {},
   "outputs": [
    {
     "data": {
      "text/plain": [
       "-1.0"
      ]
     },
     "execution_count": 29,
     "metadata": {},
     "output_type": "execute_result"
    }
   ],
   "source": [
    "(280-290)/10"
   ]
  },
  {
   "cell_type": "code",
   "execution_count": 19,
   "id": "f5432de2-779d-4e26-a759-260da6d2181e",
   "metadata": {},
   "outputs": [
    {
     "data": {
      "text/plain": [
       "0.00023262907903552502"
      ]
     },
     "execution_count": 19,
     "metadata": {},
     "output_type": "execute_result"
    }
   ],
   "source": [
    "stats.norm.sf(280, 259, 6)"
   ]
  },
  {
   "cell_type": "code",
   "execution_count": 10,
   "id": "a3e13e40-050d-4552-ad89-3f1ce686afae",
   "metadata": {},
   "outputs": [
    {
     "data": {
      "text/plain": [
       "0.6826894921370859"
      ]
     },
     "execution_count": 10,
     "metadata": {},
     "output_type": "execute_result"
    }
   ],
   "source": [
    "stats.norm.cdf(268, 262, 6) - stats.norm.cdf(256, 262, 6)"
   ]
  },
  {
   "cell_type": "code",
   "execution_count": 11,
   "id": "867be309-0fac-4463-8330-f66e56d707ad",
   "metadata": {},
   "outputs": [
    {
     "data": {
      "text/plain": [
       "0.6826894921370834"
      ]
     },
     "execution_count": 11,
     "metadata": {},
     "output_type": "execute_result"
    }
   ],
   "source": [
    "stats.norm.cdf(69.88, 69, 0.88) - stats.norm.cdf(68.12, 69, 0.88)"
   ]
  },
  {
   "cell_type": "code",
   "execution_count": 31,
   "id": "7bcd8615-6975-4ad8-ae68-d37274f2d0a7",
   "metadata": {},
   "outputs": [
    {
     "data": {
      "text/plain": [
       "0.8799999999999999"
      ]
     },
     "execution_count": 31,
     "metadata": {},
     "output_type": "execute_result"
    }
   ],
   "source": [
    "t = stats.norm.ppf(0.94)\n",
    "stats.norm.cdf(t) - stats.norm.cdf(-t)"
   ]
  },
  {
   "cell_type": "code",
   "execution_count": 13,
   "id": "8570f63c-f3a4-49ea-9271-39d419d586e7",
   "metadata": {},
   "outputs": [
    {
     "data": {
      "text/plain": [
       "0.06"
      ]
     },
     "execution_count": 13,
     "metadata": {},
     "output_type": "execute_result"
    }
   ],
   "source": [
    "(1-.88)/2"
   ]
  },
  {
   "cell_type": "code",
   "execution_count": 15,
   "id": "10c316c7-f032-4b10-9d34-61f75b78076f",
   "metadata": {},
   "outputs": [
    {
     "data": {
      "text/plain": [
       "0.94"
      ]
     },
     "execution_count": 15,
     "metadata": {},
     "output_type": "execute_result"
    }
   ],
   "source": [
    ".88 + .06"
   ]
  },
  {
   "cell_type": "code",
   "execution_count": 35,
   "id": "817467ca-76d8-42e1-b1db-e31a9c5c7166",
   "metadata": {},
   "outputs": [
    {
     "data": {
      "text/plain": [
       "0.03583290341973993"
      ]
     },
     "execution_count": 35,
     "metadata": {},
     "output_type": "execute_result"
    }
   ],
   "source": [
    "stats.norm.cdf(5.3314, 5.973, 0.3562)"
   ]
  },
  {
   "cell_type": "code",
   "execution_count": 26,
   "id": "d47009c3-afc6-4408-b84b-f4c4b5f3308c",
   "metadata": {},
   "outputs": [
    {
     "data": {
      "text/plain": [
       "6.854809659883973e-10"
      ]
     },
     "execution_count": 26,
     "metadata": {},
     "output_type": "execute_result"
    }
   ],
   "source": [
    "stats.norm.cdf(872, 1107, 382/np.sqrt(97))"
   ]
  },
  {
   "cell_type": "code",
   "execution_count": 36,
   "id": "388166e7-5b5d-4036-ace7-09b11be69cde",
   "metadata": {},
   "outputs": [
    {
     "data": {
      "text/plain": [
       "38.78622350810425"
      ]
     },
     "execution_count": 36,
     "metadata": {},
     "output_type": "execute_result"
    }
   ],
   "source": [
    "382/np.sqrt(97)"
   ]
  },
  {
   "cell_type": "code",
   "execution_count": 24,
   "id": "4f186b12-197e-4791-8ac1-76ebeb652e56",
   "metadata": {},
   "outputs": [
    {
     "data": {
      "text/plain": [
       "0.6826894921370859"
      ]
     },
     "execution_count": 24,
     "metadata": {},
     "output_type": "execute_result"
    }
   ],
   "source": [
    "stats.norm.cdf(1) - stats.norm.cdf(-1)"
   ]
  },
  {
   "cell_type": "code",
   "execution_count": 4,
   "id": "da02d7c4-fe76-4385-9774-569e348d286d",
   "metadata": {},
   "outputs": [
    {
     "data": {
      "text/plain": [
       "-1.5141018876192835"
      ]
     },
     "execution_count": 4,
     "metadata": {},
     "output_type": "execute_result"
    }
   ],
   "source": [
    "stats.norm.ppf((1-.87)/2)"
   ]
  },
  {
   "cell_type": "code",
   "execution_count": 5,
   "id": "ae15e092-fb7b-445b-9e44-5ec1b098502d",
   "metadata": {},
   "outputs": [
    {
     "data": {
      "text/plain": [
       "0.13"
      ]
     },
     "execution_count": 5,
     "metadata": {},
     "output_type": "execute_result"
    }
   ],
   "source": [
    "1-.87"
   ]
  },
  {
   "cell_type": "code",
   "execution_count": 14,
   "id": "4d4c18f6-98a8-439f-809d-cf59c52f1925",
   "metadata": {},
   "outputs": [
    {
     "data": {
      "text/plain": [
       "0.911492008562598"
      ]
     },
     "execution_count": 14,
     "metadata": {},
     "output_type": "execute_result"
    }
   ],
   "source": [
    "stats.norm.cdf(1.35)"
   ]
  },
  {
   "cell_type": "code",
   "execution_count": 20,
   "id": "670c8b00-3256-4b64-a2a2-4667ef2202f9",
   "metadata": {},
   "outputs": [],
   "source": [
    "t = -stats.t.ppf(0.025, 44)"
   ]
  },
  {
   "cell_type": "code",
   "execution_count": 23,
   "id": "5c58d20e-07f1-4808-9453-1b64eaef516c",
   "metadata": {},
   "outputs": [],
   "source": [
    "s = t * 1.72/np.sqrt(45)"
   ]
  },
  {
   "cell_type": "code",
   "execution_count": 24,
   "id": "ff05f872-8401-4688-b33e-d0779118c106",
   "metadata": {},
   "outputs": [
    {
     "data": {
      "text/plain": [
       "5.3167452055916735"
      ]
     },
     "execution_count": 24,
     "metadata": {},
     "output_type": "execute_result"
    }
   ],
   "source": [
    "4.8 + s"
   ]
  },
  {
   "cell_type": "code",
   "execution_count": 25,
   "id": "a1b4939d-3ef4-4a9e-a533-49bc301ed536",
   "metadata": {},
   "outputs": [
    {
     "data": {
      "text/plain": [
       "4.283254794408326"
      ]
     },
     "execution_count": 25,
     "metadata": {},
     "output_type": "execute_result"
    }
   ],
   "source": [
    "4.8-s"
   ]
  },
  {
   "cell_type": "code",
   "execution_count": 26,
   "id": "ea784957-3d55-40f4-b26f-f522628fb87e",
   "metadata": {},
   "outputs": [
    {
     "data": {
      "text/plain": [
       "23"
      ]
     },
     "execution_count": 26,
     "metadata": {},
     "output_type": "execute_result"
    }
   ],
   "source": [
    "88-65"
   ]
  },
  {
   "cell_type": "code",
   "execution_count": 27,
   "id": "0fadbbe3-0b8c-4efb-b0f8-ffaf861eea91",
   "metadata": {},
   "outputs": [
    {
     "data": {
      "text/plain": [
       "11.5"
      ]
     },
     "execution_count": 27,
     "metadata": {},
     "output_type": "execute_result"
    }
   ],
   "source": [
    "23/2"
   ]
  },
  {
   "cell_type": "code",
   "execution_count": 28,
   "id": "e7a9eb89-7e1b-4f48-a12e-e0dc3c0f5a53",
   "metadata": {},
   "outputs": [
    {
     "data": {
      "text/plain": [
       "76.5"
      ]
     },
     "execution_count": 28,
     "metadata": {},
     "output_type": "execute_result"
    }
   ],
   "source": [
    "88-11.5"
   ]
  },
  {
   "cell_type": "code",
   "execution_count": 29,
   "id": "cf699aee-024e-4d98-81a6-0f31e2f638d9",
   "metadata": {},
   "outputs": [
    {
     "data": {
      "text/plain": [
       "76.5"
      ]
     },
     "execution_count": 29,
     "metadata": {},
     "output_type": "execute_result"
    }
   ],
   "source": [
    "(88+65)/2"
   ]
  },
  {
   "cell_type": "code",
   "execution_count": 31,
   "id": "8b04c3fa-c613-4caf-bbc1-da7a3c8a22f9",
   "metadata": {},
   "outputs": [
    {
     "data": {
      "text/plain": [
       "4.91207129879488"
      ]
     },
     "execution_count": 31,
     "metadata": {},
     "output_type": "execute_result"
    }
   ],
   "source": [
    "(102.99 - 96)/(9/np.sqrt(40))"
   ]
  },
  {
   "cell_type": "code",
   "execution_count": 37,
   "id": "eea06730-ebe8-4f26-be1e-b2886e185cc2",
   "metadata": {},
   "outputs": [
    {
     "data": {
      "text/plain": [
       "0.0012235765043476694"
      ]
     },
     "execution_count": 37,
     "metadata": {},
     "output_type": "execute_result"
    }
   ],
   "source": [
    "stats.norm.sf(76.32, loc=75, scale=4/np.sqrt(96))*2"
   ]
  },
  {
   "cell_type": "code",
   "execution_count": 38,
   "id": "1018fdb5-0c84-432d-8cdf-08646473255a",
   "metadata": {},
   "outputs": [
    {
     "data": {
      "text/plain": [
       "0.001683102145646845"
      ]
     },
     "execution_count": 38,
     "metadata": {},
     "output_type": "execute_result"
    }
   ],
   "source": [
    "stats.t.sf(76.32, 95, loc=75, scale=4/np.sqrt(96))*2"
   ]
  },
  {
   "cell_type": "code",
   "execution_count": 36,
   "id": "adaffa1b-dee7-4e0b-925f-9693c33c84a5",
   "metadata": {},
   "outputs": [
    {
     "data": {
      "text/plain": [
       "0.7414"
      ]
     },
     "execution_count": 36,
     "metadata": {},
     "output_type": "execute_result"
    }
   ],
   "source": [
    "0.3707*2"
   ]
  },
  {
   "cell_type": "code",
   "execution_count": 39,
   "id": "c13370cc-bf5a-42d9-92eb-8390ba0ee334",
   "metadata": {},
   "outputs": [
    {
     "data": {
      "text/plain": [
       "0.011507985165943651"
      ]
     },
     "execution_count": 39,
     "metadata": {},
     "output_type": "execute_result"
    }
   ],
   "source": [
    "stats.t.sf(104, 9, loc=100, scale=4/np.sqrt(10))*2"
   ]
  },
  {
   "cell_type": "code",
   "execution_count": 42,
   "id": "e87f71f7-5df8-48c1-9b0a-9f9e8c006f56",
   "metadata": {},
   "outputs": [
    {
     "data": {
      "text/plain": [
       "2.0930240544082634"
      ]
     },
     "execution_count": 42,
     "metadata": {},
     "output_type": "execute_result"
    }
   ],
   "source": [
    "-stats.t.ppf(0.05/2, 19)"
   ]
  },
  {
   "cell_type": "code",
   "execution_count": 45,
   "id": "21e3c7c5-8dfd-4c81-93e6-d6457dae3a47",
   "metadata": {},
   "outputs": [
    {
     "data": {
      "text/plain": [
       "1.2202726875984617"
      ]
     },
     "execution_count": 45,
     "metadata": {},
     "output_type": "execute_result"
    }
   ],
   "source": [
    "(96.29 - 94)/(9/np.sqrt(23))"
   ]
  },
  {
   "cell_type": "code",
   "execution_count": 49,
   "id": "f2850d84-de15-4201-bc71-f799437f5105",
   "metadata": {},
   "outputs": [
    {
     "data": {
      "text/plain": [
       "1.86"
      ]
     },
     "execution_count": 49,
     "metadata": {},
     "output_type": "execute_result"
    }
   ],
   "source": [
    "round(-stats.t.ppf(0.05, 8), 3)"
   ]
  },
  {
   "cell_type": "code",
   "execution_count": 50,
   "id": "53ada0e3-12fb-42de-9943-e0d4856d01b2",
   "metadata": {},
   "outputs": [],
   "source": [
    "se = np.sqrt(15**2/9 + 10**2/11)"
   ]
  },
  {
   "cell_type": "code",
   "execution_count": 51,
   "id": "75ac2424-2d6a-4319-b74e-cf3bbcb3a7e4",
   "metadata": {},
   "outputs": [],
   "source": [
    "g = se * 1.645"
   ]
  },
  {
   "cell_type": "code",
   "execution_count": 52,
   "id": "7514962e-5c4e-4cad-9481-734594f7344d",
   "metadata": {},
   "outputs": [
    {
     "data": {
      "text/plain": [
       "26"
      ]
     },
     "execution_count": 52,
     "metadata": {},
     "output_type": "execute_result"
    }
   ],
   "source": [
    "38-12"
   ]
  },
  {
   "cell_type": "code",
   "execution_count": 53,
   "id": "5a00f5b0-8a06-46ff-8af1-6daca09dd8c9",
   "metadata": {},
   "outputs": [
    {
     "data": {
      "text/plain": [
       "35.60473072359279"
      ]
     },
     "execution_count": 53,
     "metadata": {},
     "output_type": "execute_result"
    }
   ],
   "source": [
    "26 + g"
   ]
  },
  {
   "cell_type": "code",
   "execution_count": 54,
   "id": "c5b72e59-f852-4880-b7fc-fad40f047b3a",
   "metadata": {},
   "outputs": [
    {
     "data": {
      "text/plain": [
       "16.395269276407213"
      ]
     },
     "execution_count": 54,
     "metadata": {},
     "output_type": "execute_result"
    }
   ],
   "source": [
    "26-g"
   ]
  },
  {
   "cell_type": "code",
   "execution_count": 59,
   "id": "17eeee72-a82b-4316-a7c7-608939374f42",
   "metadata": {},
   "outputs": [
    {
     "data": {
      "text/plain": [
       "1.5141018876192835"
      ]
     },
     "execution_count": 59,
     "metadata": {},
     "output_type": "execute_result"
    }
   ],
   "source": [
    "stats.norm.isf((1-.87)/2)"
   ]
  },
  {
   "cell_type": "code",
   "execution_count": 61,
   "id": "354ff15e-04e2-4985-b015-aba45fd733d3",
   "metadata": {},
   "outputs": [
    {
     "data": {
      "text/plain": [
       "0.13517561927662872"
      ]
     },
     "execution_count": 61,
     "metadata": {},
     "output_type": "execute_result"
    }
   ],
   "source": [
    "stats.norm.sf(1.494)*2"
   ]
  },
  {
   "cell_type": "code",
   "execution_count": 63,
   "id": "01a54acf-2810-4e14-8494-5a4b0ae32eee",
   "metadata": {},
   "outputs": [
    {
     "data": {
      "text/plain": [
       "4.297"
      ]
     },
     "execution_count": 63,
     "metadata": {},
     "output_type": "execute_result"
    }
   ],
   "source": [
    "4.8 - 0.503"
   ]
  },
  {
   "cell_type": "code",
   "execution_count": 64,
   "id": "fc9ffc7b-3858-40cc-892d-afd1944a5da7",
   "metadata": {},
   "outputs": [
    {
     "data": {
      "text/plain": [
       "76.5"
      ]
     },
     "execution_count": 64,
     "metadata": {},
     "output_type": "execute_result"
    }
   ],
   "source": [
    "(65+88)/2"
   ]
  },
  {
   "cell_type": "code",
   "execution_count": 67,
   "id": "58b2423c-1c1a-4505-9180-d50e283060fc",
   "metadata": {},
   "outputs": [
    {
     "data": {
      "text/plain": [
       "1.5811388300841895"
      ]
     },
     "execution_count": 67,
     "metadata": {},
     "output_type": "execute_result"
    }
   ],
   "source": [
    "5/np.sqrt(10)"
   ]
  },
  {
   "cell_type": "code",
   "execution_count": 68,
   "id": "a2357b09-0998-407d-a043-4a2408a5bd15",
   "metadata": {},
   "outputs": [
    {
     "data": {
      "text/plain": [
       "1.8595480375228428"
      ]
     },
     "execution_count": 68,
     "metadata": {},
     "output_type": "execute_result"
    }
   ],
   "source": [
    "stats.t.isf(0.05, 8)"
   ]
  },
  {
   "cell_type": "code",
   "execution_count": 70,
   "id": "ed5a3665-a0ea-422e-a362-699c8c9b2138",
   "metadata": {},
   "outputs": [
    {
     "data": {
      "text/plain": [
       "26"
      ]
     },
     "execution_count": 70,
     "metadata": {},
     "output_type": "execute_result"
    }
   ],
   "source": [
    "38-12"
   ]
  },
  {
   "cell_type": "code",
   "execution_count": null,
   "id": "1aaaf883-3bc1-4680-9571-0ff008e290f7",
   "metadata": {},
   "outputs": [],
   "source": []
  }
 ],
 "metadata": {
  "kernelspec": {
   "display_name": "Python 3 (ipykernel)",
   "language": "python",
   "name": "python3"
  },
  "language_info": {
   "codemirror_mode": {
    "name": "ipython",
    "version": 3
   },
   "file_extension": ".py",
   "mimetype": "text/x-python",
   "name": "python",
   "nbconvert_exporter": "python",
   "pygments_lexer": "ipython3",
   "version": "3.9.7"
  }
 },
 "nbformat": 4,
 "nbformat_minor": 5
}
