{
 "cells": [
  {
   "cell_type": "markdown",
   "metadata": {},
   "source": [
    "# Assignment 3 - Normal and t distributions\n",
    "(20 points)\n",
    "\n",
    "### Add your name(s) and EIDs below\n",
    "- Student Name: Siem Yonas\n",
    "- Student UT EID: sby237\n",
    "- Partner Name:\n",
    "- Partner UT EID:\n",
    "\n",
    "### Grading clarifications\n",
    "1. Before you submit:\n",
    "    - **Please do not change the variable names** we give you for your answer to each question. You can use other variables if you wish, but the final answer must be stored in that variable.\n",
    "    - **Please don't use any other libraries** besides those provided in `requirements.txt`, and those [built in to Python](https://docs.python.org/3.8/library/index.html).\n",
    "2. We will also be double-checking the autograder, so you won't lose points if your formatting causes it to deduct points (but please try to follow the points under 1).\n",
    "3. After submitting, you may see \"All test cases passed!\" for Public Tests. Please note that this doesn't mean you have correctly answered every question, as there are no public tests. We will be using a series of hidden tests to verify your answers are correct."
   ]
  },
  {
   "cell_type": "markdown",
   "metadata": {},
   "source": [
    "# Overview\n",
    "An experiment was conducted to determine the effect of children participating in a given meal preparation on calorie intake for that meal. Data are recorded below. \n",
    "\n",
    "Save the data to a format that can be read into Python. Read the data in for analysis. Data is provided in two separted CSV files. \n",
    "\n",
    "* Use Python to calculate the quantities and generate the visual summaries requested below. (You will lose points if you are not utilizing Python.)\n",
    "\n",
    "* You can use the scipy libary to do your tests, or you can implement them from scratch in Python.\n",
    "\n"
   ]
  },
  {
   "cell_type": "code",
   "execution_count": 1,
   "metadata": {},
   "outputs": [],
   "source": [
    "# Standard Headers\n",
    "# You are welcome to add additional headers here if you wish, as long as they are\n",
    "# built-in or included in requirements.txt\n",
    "import pandas as pd\n",
    "import numpy as np\n",
    "import matplotlib.pyplot as plt\n",
    "\n",
    "from scipy import stats\n",
    "\n",
    "# Enable inline mode for matplotlib so that Jupyter displays graphs\n",
    "%matplotlib inline"
   ]
  },
  {
   "cell_type": "markdown",
   "metadata": {},
   "source": [
    "# Q1\n",
    "Summarize the data by whether children participated in the meal preparation or not. Use an appropriately labelled table to show the results. Also include a graphical presentation that shows the distribution of calories for participants vs. non-participants. Describe the shape of each distribution and comment on the similarity (or lack thereof) between the distributions in each population. **(2 points)**\n",
    "\n",
    "Be aware that there is not one specific way the graph needs to look. Experiment with different types of graphs, and different parameters for the graph type. Your goal is to present the data as readable as possible. "
   ]
  },
  {
   "cell_type": "markdown",
   "metadata": {},
   "source": [
    "Both distributions visually seem be to relatively unskewed and have about the same mean. The nonparticipant distribution seems to have a higher standard deviation than the participant distribution, as the histogram is much flatter and spread out."
   ]
  },
  {
   "cell_type": "markdown",
   "metadata": {},
   "source": [
    "<!-- BEGIN QUESTION -->\n",
    "\n"
   ]
  },
  {
   "cell_type": "code",
   "execution_count": 2,
   "metadata": {
    "tags": []
   },
   "outputs": [
    {
     "data": {
      "text/html": [
       "<div>\n",
       "<style scoped>\n",
       "    .dataframe tbody tr th:only-of-type {\n",
       "        vertical-align: middle;\n",
       "    }\n",
       "\n",
       "    .dataframe tbody tr th {\n",
       "        vertical-align: top;\n",
       "    }\n",
       "\n",
       "    .dataframe thead th {\n",
       "        text-align: right;\n",
       "    }\n",
       "</style>\n",
       "<table border=\"1\" class=\"dataframe\">\n",
       "  <thead>\n",
       "    <tr style=\"text-align: right;\">\n",
       "      <th>Type</th>\n",
       "      <th>Nonparticipant</th>\n",
       "      <th>Participant</th>\n",
       "    </tr>\n",
       "  </thead>\n",
       "  <tbody>\n",
       "    <tr>\n",
       "      <th>count</th>\n",
       "      <td>22.000000</td>\n",
       "      <td>25.000000</td>\n",
       "    </tr>\n",
       "    <tr>\n",
       "      <th>mean</th>\n",
       "      <td>374.071818</td>\n",
       "      <td>410.079600</td>\n",
       "    </tr>\n",
       "    <tr>\n",
       "      <th>std</th>\n",
       "      <td>133.139285</td>\n",
       "      <td>121.513786</td>\n",
       "    </tr>\n",
       "    <tr>\n",
       "      <th>min</th>\n",
       "      <td>139.690000</td>\n",
       "      <td>210.990000</td>\n",
       "    </tr>\n",
       "    <tr>\n",
       "      <th>25%</th>\n",
       "      <td>296.392500</td>\n",
       "      <td>298.380000</td>\n",
       "    </tr>\n",
       "    <tr>\n",
       "      <th>50%</th>\n",
       "      <td>374.740000</td>\n",
       "      <td>424.940000</td>\n",
       "    </tr>\n",
       "    <tr>\n",
       "      <th>75%</th>\n",
       "      <td>445.557500</td>\n",
       "      <td>456.300000</td>\n",
       "    </tr>\n",
       "    <tr>\n",
       "      <th>max</th>\n",
       "      <td>688.770000</td>\n",
       "      <td>635.210000</td>\n",
       "    </tr>\n",
       "  </tbody>\n",
       "</table>\n",
       "</div>"
      ],
      "text/plain": [
       "Type   Nonparticipant  Participant\n",
       "count       22.000000    25.000000\n",
       "mean       374.071818   410.079600\n",
       "std        133.139285   121.513786\n",
       "min        139.690000   210.990000\n",
       "25%        296.392500   298.380000\n",
       "50%        374.740000   424.940000\n",
       "75%        445.557500   456.300000\n",
       "max        688.770000   635.210000"
      ]
     },
     "execution_count": 2,
     "metadata": {},
     "output_type": "execute_result"
    }
   ],
   "source": [
    "# Add your code or descriptions here\n",
    "participants = pd.read_csv(\"participants.csv\", header=0, names=[\"Intake\"])\n",
    "nonparticipants = pd.read_csv(\"nonparticipants.csv\", header=0, names=[\"Intake\"])\n",
    "\n",
    "full = pd.concat([participants.assign(Type=\"Participant\"), nonparticipants.assign(Type=\"Nonparticipant\")]).reset_index(drop=True)\n",
    "\n",
    "full.groupby(\"Type\")[\"Intake\"].describe().T"
   ]
  },
  {
   "cell_type": "code",
   "execution_count": 3,
   "metadata": {},
   "outputs": [],
   "source": [
    "LOWER = min(participants.Intake.min(), nonparticipants.Intake.min())\n",
    "UPPER = max(participants.Intake.max(), nonparticipants.Intake.max())\n",
    "\n",
    "bins = np.linspace(LOWER, UPPER, 15)"
   ]
  },
  {
   "cell_type": "code",
   "execution_count": 4,
   "metadata": {},
   "outputs": [
    {
     "data": {
      "image/png": "[encoded data removed]",
      "text/plain": [
       "<Figure size 432x288 with 1 Axes>"
      ]
     },
     "metadata": {
      "needs_background": "light"
     },
     "output_type": "display_data"
    }
   ],
   "source": [
    "participants.Intake.hist(bins=bins)\n",
    "plt.ylim((0, 6.25))\n",
    "plt.title(\"Participant Intake\")\n",
    "plt.ylabel(\"Frequency\")\n",
    "_ = plt.xlabel(\"Caloric Intake\")"
   ]
  },
  {
   "cell_type": "code",
   "execution_count": 5,
   "metadata": {},
   "outputs": [
    {
     "data": {
      "image/png": "[encoded data removed]",
      "text/plain": [
       "<Figure size 432x288 with 1 Axes>"
      ]
     },
     "metadata": {
      "needs_background": "light"
     },
     "output_type": "display_data"
    }
   ],
   "source": [
    "nonparticipants.Intake.hist(bins=bins)\n",
    "plt.ylim((0, 6.25))\n",
    "plt.title(\"Nonparticipant Intake\")\n",
    "plt.ylabel(\"Frequency\")\n",
    "_ = plt.xlabel(\"Caloric Intake\")"
   ]
  },
  {
   "cell_type": "markdown",
   "metadata": {},
   "source": [
    "<!-- END QUESTION -->\n",
    "\n",
    "# Q2\n",
    "\n",
    "Does the mean calorie consumption for those who participated in the meal preparation differ from **425**? Formally test at the $\\alpha = 0.05$ level using the 5 steps outlined in the module. **(6 points - 3 for computations, 3 for description)**\n"
   ]
  },
  {
   "cell_type": "markdown",
   "metadata": {
    "tags": []
   },
   "source": [
    " ### 1.\n",
    " $H_0 : \\mu = 425$ (the mean calorie consumption for participants is 425 Cal)\n",
    " \n",
    " $H_1 : \\mu \\neq 425$ (the mean calorie consumption for participants is not 425 Cal)\n",
    " \n",
    " $\\alpha = 0.05$\n",
    " \n",
    " ### 2.\n",
    " Since n is small and the sd of the population is unknown, use a t-test.\n",
    " $$ t = \\frac{\\bar x - \\mu}{SE} $$\n",
    " \n",
    " ### 3.\n",
    " The critical value is obtained from the standard t-distribution associated with the right hand tail probablity of $ \\frac{\\alpha}{2} = \\frac{0.05}{2} = 0.025 $ based on $ df = 24 $ is $ 2.06 $.\n",
    " \n",
    " Decision Rule: Reject $ H_0 $ if $ |t| \\geq 2.06 $, otherwise, fail to reject $H_0$\n",
    " \n",
    " ### 4.\n",
    " $ t = -0.614 $ (see cell two below)\n",
    " \n",
    " ### 5.\n",
    " \n",
    " Fail to reject $H_0$, since $|-0.614| < 2.06$\n",
    " We do not have significant evidence at the $\\alpha = 0.05$ level that the mean calorie consumption of the program participants differs from 425.\n",
    " \n",
    " Values: \n",
    " $$\n",
    " t = -0.614 \\\\\n",
    " pvalue = 0.545 \n",
    " $$\n",
    " "
   ]
  },
  {
   "cell_type": "code",
   "execution_count": 6,
   "metadata": {
    "tags": []
   },
   "outputs": [
    {
     "data": {
      "text/plain": [
       "2.063898561628021"
      ]
     },
     "execution_count": 6,
     "metadata": {},
     "output_type": "execute_result"
    }
   ],
   "source": [
    "# df for t test is n-1\n",
    "df = len(participants.Intake)-1\n",
    "\n",
    "# critical value is abs(t.ppf(alpha/2, df))\n",
    "# What is the critical value?\n",
    "q2_cr = abs(stats.t.ppf(0.025, df))\n",
    "q2_cr "
   ]
  },
  {
   "cell_type": "code",
   "execution_count": 7,
   "metadata": {
    "tags": []
   },
   "outputs": [
    {
     "name": "stdout",
     "output_type": "stream",
     "text": [
      "t-value: -0.6139385690489593\n",
      "p-value: 0.54503195103188\n"
     ]
    }
   ],
   "source": [
    "result = stats.ttest_1samp(participants.Intake, 425)\n",
    "\n",
    "# What is the test statistic and its associated p-value?\n",
    "q2_t = result.statistic\n",
    "q2_p = result.pvalue\n",
    "\n",
    "print('t-value:', q2_t)\n",
    "print('p-value:', q2_p)"
   ]
  },
  {
   "cell_type": "markdown",
   "metadata": {},
   "source": [
    "<!-- END QUESTION -->\n",
    "\n",
    "# Q3\n",
    "Calculate a **90%** confidence interval for the mean calorie intake for participants in the meal preparation. Interpret the confidence interval. **(6 points - 3 for computations, 3 for description)**"
   ]
  },
  {
   "cell_type": "markdown",
   "metadata": {},
   "source": [
    "90% Confidence Interval: $\\mu \\in (368.5, 451.7)$ \n",
    "\n",
    "We are 90% confident that the mean calorie intake for the participants of the program in between 368.5 and 451.7."
   ]
  },
  {
   "cell_type": "markdown",
   "metadata": {},
   "source": [
    "<!-- BEGIN QUESTION -->\n",
    "\n"
   ]
  },
  {
   "cell_type": "code",
   "execution_count": 8,
   "metadata": {
    "tags": []
   },
   "outputs": [
    {
     "name": "stdout",
     "output_type": "stream",
     "text": [
      "confidence interval: (  368.50044815647897 451.658751843521 )\n"
     ]
    }
   ],
   "source": [
    "result = stats.t.interval(0.90, df, loc=participants.Intake.mean(), scale=participants.Intake.std()/ np.sqrt(len(participants.Intake)))\n",
    "\n",
    "#print(participants.Intake.mean() - abs(stats.t.ppf(0.05, df)) * participants.Intake.std() / np.sqrt(len(participants.Intake)))\n",
    "\n",
    "ci_lower = result[0]\n",
    "ci_upper = result[1]\n",
    "print(\"confidence interval: ( \", ci_lower, ci_upper, \")\")"
   ]
  },
  {
   "cell_type": "markdown",
   "metadata": {},
   "source": [
    "<!-- END QUESTION -->\n",
    "\n",
    "# Q4\n",
    "Formally test whether or not participants consumed \n",
    "more calories than non-participants at the $\\alpha = 0.05$ level using the 5 steps procedure for hypothesis tests. **(6 points - 3 for computations, 3 for description)**"
   ]
  },
  {
   "cell_type": "markdown",
   "metadata": {},
   "source": [
    " ### 1.\n",
    " $H_0 : \\mu_{part} = \\mu_{nonpart}$ (the mean calorie consumption doesn't depend on participation)\n",
    " \n",
    " $H_1 : \\mu_{part} > \\mu_{nonpart}$ (the mean calorie consumption is greater for participants than nonparticipants)\n",
    " \n",
    " $\\alpha = 0.05$\n",
    " \n",
    " ### 2.\n",
    " Since n is small and the sd of the population is unknown, use a t-test.\n",
    " \n",
    " ### 3.\n",
    " The critical value is obtained from the standard t-distribution associated with the right hand tail probablity of $ \\alpha = 0.05 $ based on $ df = 42.9 (\\approx 42) $ is $ 1.68 $.\n",
    " \n",
    " Decision Rule: Reject $ H_0 $ if $ |t| \\geq 1.68 $, otherwise, fail to reject $H_0$\n",
    " \n",
    " ### 4.\n",
    " $ t = 0.969 $ (see cell two below)\n",
    " \n",
    " ### 5.\n",
    " \n",
    " Fail to reject $H_0$, since $|0.969| < 1.68$\n",
    " We do not have significant evidence at the $\\alpha = 0.05$ level that the mean calorie consumption of the program is greater for meal program participants.\n",
    " \n",
    " Values: \n",
    " $$\n",
    " t = 0.969 \\\\\n",
    " pvalue = 0.169\n",
    " $$"
   ]
  },
  {
   "cell_type": "code",
   "execution_count": 9,
   "metadata": {
    "tags": []
   },
   "outputs": [
    {
     "data": {
      "text/plain": [
       "1.6811563281306157"
      ]
     },
     "execution_count": 9,
     "metadata": {},
     "output_type": "execute_result"
    }
   ],
   "source": [
    "n1, n2 = len(participants.Intake), len(nonparticipants.Intake)\n",
    "s1, s2 = participants.Intake.std(), nonparticipants.Intake.std()\n",
    "\n",
    "df = (s1**2/n1 + s2**2/n2)**2 / ((s1**2/n1)**2/(n1-1) + (s2**2/n2)**2/(n2-1))\n",
    "\n",
    "# Compute the critical value \n",
    "q4_cr = abs(stats.t.ppf(0.05, df))\n",
    "q4_cr"
   ]
  },
  {
   "cell_type": "code",
   "execution_count": 10,
   "metadata": {
    "tags": []
   },
   "outputs": [
    {
     "name": "stdout",
     "output_type": "stream",
     "text": [
      "statistic: 0.9693504409241457\n",
      "p-value: 0.1687759109713235\n"
     ]
    }
   ],
   "source": [
    "result = stats.ttest_ind(participants.Intake, nonparticipants.Intake, alternative = 'greater')\n",
    "\n",
    "# Compute the test statistic and its p-value\n",
    "q4_statistic = result.statistic\n",
    "q4_p = result.pvalue\n",
    "print(\"statistic:\", q4_statistic)\n",
    "print(\"p-value:\", q4_p)"
   ]
  },
  {
   "cell_type": "markdown",
   "metadata": {},
   "source": [
    "<!-- END QUESTION -->\n",
    "\n"
   ]
  }
 ],
 "metadata": {
  "kernelspec": {
   "display_name": "Python 3 (ipykernel)",
   "language": "python",
   "name": "python3"
  },
  "language_info": {
   "codemirror_mode": {
    "name": "ipython",
    "version": 3
   },
   "file_extension": ".py",
   "mimetype": "text/x-python",
   "name": "python",
   "nbconvert_exporter": "python",
   "pygments_lexer": "ipython3",
   "version": "3.9.7"
  },
  "otter": {
   "OK_FORMAT": true,
   "assignment_name": "329e_HW03",
   "tests": {
    "q2_computations": {
     "name": "q2_computations",
     "points": 3,
     "suites": [
      {
       "cases": [],
       "scored": true,
       "setup": "",
       "teardown": "",
       "type": "doctest"
      }
     ]
    },
    "q3_computations": {
     "name": "q3_computations",
     "points": 3,
     "suites": [
      {
       "cases": [],
       "scored": true,
       "setup": "",
       "teardown": "",
       "type": "doctest"
      }
     ]
    },
    "q4_computations": {
     "name": "q4_computations",
     "points": 3,
     "suites": [
      {
       "cases": [],
       "scored": true,
       "setup": "",
       "teardown": "",
       "type": "doctest"
      }
     ]
    }
   }
  },
  "toc-autonumbering": false,
  "vscode": {
   "interpreter": {
    "hash": "05642a42904bc69a6f3fb292ea6dbf0463ee768c41640775e87375f7653a91c5"
   }
  }
 },
 "nbformat": 4,
 "nbformat_minor": 4
}
